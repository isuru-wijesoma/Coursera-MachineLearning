{
 "cells": [
  {
   "cell_type": "markdown",
   "metadata": {},
   "source": [
    "# Exercise 2: Logistic regression\n",
    "\n",
    "The code below represents my implementation of logistic regression with Python.\n",
    "Jupyter notebook template modified from: https://github.com/dibgerge/ml-coursera-python-assignments."
   ]
  },
  {
   "cell_type": "code",
   "execution_count": 1,
   "metadata": {},
   "outputs": [],
   "source": [
    "import pandas as pd\n",
    "import numpy as np\n",
    "import matplotlib.pyplot as plt\n",
    "from pathlib import Path\n",
    "from scipy import optimize"
   ]
  },
  {
   "cell_type": "markdown",
   "metadata": {},
   "source": [
    "## 1. Visualizing the data"
   ]
  },
  {
   "cell_type": "markdown",
   "metadata": {},
   "source": [
    "### 1.1 Read data"
   ]
  },
  {
   "cell_type": "code",
   "execution_count": 2,
   "metadata": {},
   "outputs": [],
   "source": [
    "df = pd.read_csv('ex2data1.txt', header=None, names=['score_1', 'score_2', 'result'])\n",
    "\n",
    "# Format features for analysis\n",
    "X = np.column_stack((np.ones(len(df)), df.iloc[:, 0:2].to_numpy()))\n",
    "y = df.iloc[:,-1]"
   ]
  },
  {
   "cell_type": "markdown",
   "metadata": {},
   "source": [
    "### 1.2 Visualize data"
   ]
  },
  {
   "cell_type": "code",
   "execution_count": 3,
   "metadata": {},
   "outputs": [],
   "source": [
    "def plot_data(df):\n",
    "    \"\"\"\n",
    "    Plots the data points X and y into a new figure.\n",
    "    PLOTDATA(x,y) plots the data points with + for the positive examples\n",
    "    and o for the negative examples. X is assumed to be a m x 2 matrix.\n",
    "    \n",
    "    Parameters\n",
    "    ----------\n",
    "    df : pd.dataframe\n",
    "        The input dataset of shape (m x 3), where m is the \n",
    "        number of examples, and n is the number of features.\n",
    "    \n",
    "    Returns\n",
    "    -------\n",
    "    fig : matplotlib.pyplot object\n",
    "        Graph of exam scores 1 and 2 with admitted and rejected applicants\n",
    "    \"\"\"\n",
    "    admitted = df.loc[df['result'] == 1]\n",
    "    rejected = df.loc[df['result'] == 0]\n",
    "    fig = plt.scatter(admitted['score_1'],\n",
    "                      admitted['score_2'],\n",
    "                      label=\"Admitted\",\n",
    "                      color='cornflowerblue'\n",
    "                      )\n",
    "    \n",
    "    fig = plt.scatter(rejected['score_1'],\n",
    "                  rejected['score_2'],\n",
    "                  label=\"Rejected\",\n",
    "                  color='tomato'\n",
    "                  )\n",
    "    plt.xlabel(\"Exam 1 score\")\n",
    "    plt.ylabel(\"Exam 2 score\")\n",
    "    plt.legend()\n",
    "    \n",
    "    return fig"
   ]
  },
  {
   "cell_type": "code",
   "execution_count": 4,
   "metadata": {},
   "outputs": [
    {
     "data": {
      "text/plain": [
       "<matplotlib.collections.PathCollection at 0x234e87b1370>"
      ]
     },
     "execution_count": 4,
     "metadata": {},
     "output_type": "execute_result"
    },
    {
     "data": {
      "image/png": "[encoded data removed]",
      "text/plain": [
       "<Figure size 432x288 with 1 Axes>"
      ]
     },
     "metadata": {
      "needs_background": "light"
     },
     "output_type": "display_data"
    }
   ],
   "source": [
    "fig = plot_data(df)\n",
    "fig"
   ]
  },
  {
   "cell_type": "markdown",
   "metadata": {},
   "source": [
    "## 2 Logistic regression implementation"
   ]
  },
  {
   "cell_type": "markdown",
   "metadata": {},
   "source": [
    "### 2.1 Sigmoid function "
   ]
  },
  {
   "cell_type": "markdown",
   "metadata": {},
   "source": [
    "Logistic regression hypothesis function is defined as: <br>\n",
    "<center>$ h_\\theta(x) = g(\\theta^T(x)$, </center> <br>\n",
    "where function g is the sigmoid function, defined as: <br>\n",
    "<center> $ g(z) = \\Large\\frac{1}{1 + e^{-z}} $ </center>"
   ]
  },
  {
   "cell_type": "code",
   "execution_count": 5,
   "metadata": {},
   "outputs": [],
   "source": [
    "def sigmoid(X, theta):\n",
    "    \"\"\"\n",
    "    Compute sigmoid function.\n",
    "    \n",
    "    Parameters\n",
    "    ----------\n",
    "    X : n.array\n",
    "        The input dataset of shape (m x n+1), where m is the \n",
    "        number of examples, and n is the number of features.\n",
    "        \n",
    "    theta : np.array\n",
    "        The parameters for the regression function. This is a vector of \n",
    "        shape (n, ).\n",
    "    \n",
    "    Returns\n",
    "    -------\n",
    "    sigmoid : np.array\n",
    "        Prediction using theta and X.\n",
    "    \n",
    "    \"\"\"\n",
    "    z = X.dot(theta)\n",
    "    hypothesis = 1 / (1 + np.exp(-z))\n",
    "    \n",
    "    return hypothesis"
   ]
  },
  {
   "cell_type": "markdown",
   "metadata": {},
   "source": [
    "### 2.2 Cost function"
   ]
  },
  {
   "cell_type": "markdown",
   "metadata": {},
   "source": [
    "The cost function in logistic regression is\n",
    "$$ J(\\theta) = \\frac{1}{m} \\sum_{i=1}^{m} \\left[ -y^{(i)} \\log\\left(h_\\theta\\left( x^{(i)} \\right) \\right) - \\left( 1 - y^{(i)}\\right) \\log \\left( 1 - h_\\theta\\left( x^{(i)} \\right) \\right) \\right]$$\n",
    "\n",
    "and the gradient of the cost is a vector of the same length as $\\theta$ where the $j^{th}$ element (for $j = 0, 1, \\cdots , n$) is defined as follows:\n",
    "$$ \\frac{\\partial J(\\theta)}{\\partial \\theta_j} = \\frac{1}{m} \\sum_{i=1}^m \\left( h_\\theta \\left( x^{(i)} \\right) - y^{(i)} \\right) x_j^{(i)} $$\n",
    "\n",
    "Note that while this gradient looks identical to the linear regression gradient, the formula is actually different because linear and logistic regression have different definitions of $h_\\theta(x)$. "
   ]
  },
  {
   "cell_type": "code",
   "execution_count": 6,
   "metadata": {},
   "outputs": [],
   "source": [
    "def costFunction(theta, X, y):\n",
    "    \"\"\"\n",
    "    Compute cost and gradient for logistic regression. \n",
    "    \n",
    "    Parameters\n",
    "    ----------\n",
    "    theta : np.array\n",
    "        The parameters for logistic regression. This a vector\n",
    "        of shape (n+1, ).\n",
    "    \n",
    "    X : np.array\n",
    "        The input dataset of shape (m x n+1) where m is the total number\n",
    "        of data points and n is the number of features. We assume the \n",
    "        intercept has already been added to the input.\n",
    "    \n",
    "    y : np.array\n",
    "        Labels for the input. This is a vector of shape (m, ).\n",
    "    \n",
    "    Returns\n",
    "    -------\n",
    "    J : float\n",
    "        The computed value for the cost function. \n",
    "    \n",
    "    grad : np.array\n",
    "        A vector of shape (n+1, ) which is the gradient of the cost\n",
    "        function with respect to theta, at the current values of theta.\n",
    "    \"\"\"\n",
    "    \n",
    "    # Initialize important parameters\n",
    "    m = len(y)\n",
    "    \n",
    "    # Cost function\n",
    "    term1 = -y.dot(np.log(sigmoid(X, theta)))\n",
    "    term2 = (1 - y).dot(np.log(1 - sigmoid(X, theta)))\n",
    "    J = (1 / m) * (term1 - term2)\n",
    "    \n",
    "    # Gradient of the cost function\n",
    "    grad = (1 / m) * (sigmoid(X, theta) - y).dot(X)\n",
    "    \n",
    "    return J, grad"
   ]
  },
  {
   "cell_type": "code",
   "execution_count": 7,
   "metadata": {},
   "outputs": [
    {
     "name": "stdout",
     "output_type": "stream",
     "text": [
      "Cost at initial theta (zeros): 0.693\n",
      "Expected cost (approx): 0.693\n",
      "\n",
      "Gradient at initial theta (zeros):\n",
      "\t[-0.1000, -12.0092, -11.2628]\n",
      "Expected gradients (approx):\n",
      "\t[-0.1000, -12.0092, -11.2628]\n",
      "\n",
      "Cost at initial theta (zeros): 0.218\n",
      "Expected cost (approx): 0.218\n",
      "\n",
      "Gradient at test theta:\n",
      "\t[0.0429, 2.5662, 2.6468]\n",
      "Expected gradients (approx):\n",
      "\t[0.043, 2.566, 2.647]\n"
     ]
    }
   ],
   "source": [
    "# Initialize fitting parameters\n",
    "initial_theta = np.zeros(3)\n",
    "\n",
    "cost, grad = costFunction(initial_theta, X, y)\n",
    "\n",
    "print(f'Cost at initial theta (zeros): {cost:.3f}')\n",
    "print('Expected cost (approx): 0.693\\n')\n",
    "\n",
    "print('Gradient at initial theta (zeros):')\n",
    "print(f'\\t[{grad[0]:.4f}, {grad[1]:.4f}, {grad[2]:.4f}]')\n",
    "print('Expected gradients (approx):\\n\\t[-0.1000, -12.0092, -11.2628]\\n')\n",
    "\n",
    "# Compute and display cost and gradient with non-zero theta\n",
    "test_theta = np.array([-24, 0.2, 0.2])\n",
    "cost, grad = costFunction(test_theta, X, y)\n",
    "\n",
    "print(f'Cost at initial theta (zeros): {cost:.3f}')\n",
    "print('Expected cost (approx): 0.218\\n')\n",
    "\n",
    "print('Gradient at test theta:')\n",
    "print(f'\\t[{grad[0]:.4f}, {grad[1]:.4f}, {grad[2]:.4f}]')\n",
    "print('Expected gradients (approx):\\n\\t[0.043, 2.566, 2.647]')"
   ]
  },
  {
   "cell_type": "markdown",
   "metadata": {},
   "source": [
    "### 2.4 Learning parameters using scipy.optimize"
   ]
  },
  {
   "cell_type": "markdown",
   "metadata": {},
   "source": [
    "The cost function $J(\\theta)$ with parameters $\\theta$ will be optimized using the `optimize.minimize` method. The following arguments will be passed:\n",
    "\n",
    "* `costFunction`: A cost function that, when given the training set and a particular $\\theta$, computes the logistic regression cost and gradient with respect to $\\theta$ for the dataset (X, y). It is important to note that we only pass the name of the function without the parenthesis. This indicates that we are only providing a reference to this function, and not evaluating the result from this function.\n",
    "* `initial_theta`: The initial values of the parameters we are trying to optimize.\n",
    "    (X, y): These are additional arguments to the cost function.\n",
    "* `jac`: Indication if the cost function returns the Jacobian (gradient) along with cost value. Set to **True**.\n",
    "* `method`: Optimization method/algorithm to use\n",
    "* `options`: Additional options which might be specific to the specific optimization method. In the following, we only tell the algorithm the maximum number of iterations before it terminates.\n",
    "\n",
    "Documentation for `scipy.optimize.minimize`: https://docs.scipy.org/doc/scipy/reference/generated/scipy.optimize.minimize.html\n",
    "\n"
   ]
  },
  {
   "cell_type": "code",
   "execution_count": 8,
   "metadata": {},
   "outputs": [
    {
     "name": "stdout",
     "output_type": "stream",
     "text": [
      "Cost at theta found by optimize.minimize: 0.203\n",
      "Expected cost (approx): 0.203\n",
      "\n",
      "theta:\n",
      "\t[-25.161, 0.206, 0.201]\n",
      "Expected theta (approx):\n",
      "\t[-25.161, 0.206, 0.201]\n"
     ]
    }
   ],
   "source": [
    "# Set options for optimize.minimize\n",
    "options = {'maxiter': 400}\n",
    "\n",
    "# optimize.minimize function returns an object `OptimizeResult`\n",
    "# We use truncated Newton algorithm for optimization which is \n",
    "# equivalent to MATLAB's fminunc\n",
    "# See https://stackoverflow.com/questions/18801002/fminunc-alternate-in-numpy\n",
    "\n",
    "result = optimize.minimize(costFunction,\n",
    "                           initial_theta,\n",
    "                           (X, y),\n",
    "                           jac = True,\n",
    "                           method = 'TNC',\n",
    "                           options = options)\n",
    "\n",
    "# .fun property of `OptimizeResult` object returns\n",
    "# the value of costFunction at optimized theta\n",
    "cost = result.fun\n",
    "\n",
    "# the optimized theta is in the x property\n",
    "theta = result.x\n",
    "\n",
    "\n",
    "# Print theta to screen\n",
    "print(f'Cost at theta found by optimize.minimize: {cost:.3f}')\n",
    "print(f'Expected cost (approx): 0.203\\n');\n",
    "\n",
    "print('theta:')\n",
    "print(f'\\t[{theta[0]:.3f}, {theta[1]:.3f}, {theta[2]:.3f}]')\n",
    "print('Expected theta (approx):\\n\\t[-25.161, 0.206, 0.201]')"
   ]
  },
  {
   "cell_type": "markdown",
   "metadata": {},
   "source": [
    "### 2.5 Ploting a decision boundary"
   ]
  },
  {
   "cell_type": "markdown",
   "metadata": {},
   "source": [
    "Decision boundary of logistic regression is the set of all points $x$ that satisfy <br>\n",
    "<center> $ \\mathbb{P}(y=1\\mid x)=\\mathbb{P}(y=0\\mid x)=\\large\\frac{1}{2} $ </center> <br>\n",
    "Given\n",
    "<center> $ \\mathbb{P}(y=1\\mid x)= \\Large\\frac{1}{1 + e^{\\theta^Tx}} $ </center> <br>\n",
    "\n",
    "$ \\mathbb{P}(y=1\\mid x) $ will be $0.5$ if $ \\theta^Tx $ equals $ 0 $. <br> Thus, the decision boundary can be derived as follows:\n",
    "\n",
    "<center> $ \\theta_0 + \\theta_1x_1 + \\theta_2x_2 = 0 $ </center><br>\n",
    "<center> $ \\Rightarrow \\large-\\frac{\\theta_0}{\\theta_2} - \\frac{\\theta_1}{\\theta_2}x_1 = x_2 $ </center>\n",
    "\n",
    "**Source**: https://datascience.stackexchange.com/questions/49573/how-to-plot-logistic-regression-decision-boundary"
   ]
  },
  {
   "cell_type": "code",
   "execution_count": 9,
   "metadata": {},
   "outputs": [],
   "source": [
    "def decision_boundary(X, theta):\n",
    "    \"\"\"\n",
    "    Plots decision boundary to data.\n",
    "    \n",
    "    Parameters\n",
    "    ----------\n",
    "    X : np.array\n",
    "        The input dataset of shape (m x n+1), where m is the \n",
    "        number of examples, and n is the number of features.\n",
    "    \n",
    "    theta : np.array\n",
    "        The parameters for the regression function. This is a vector of \n",
    "        shape (n, ).\n",
    "    \n",
    "    Returns\n",
    "    -------\n",
    "    fig : matplotlib object\n",
    "        A scatter plot of values and linear regression line.\n",
    "    \"\"\"\n",
    "\n",
    "    fig = plot_data(df)\n",
    "    dec_bound = -(theta[0] / theta[2]) - ((theta[1] / theta[2]) * X[:,1])\n",
    "    fig = plt.plot(X[:,1], dec_bound, 'c')\n",
    "    \n",
    "    \n",
    "    return fig"
   ]
  },
  {
   "cell_type": "code",
   "execution_count": 10,
   "metadata": {},
   "outputs": [
    {
     "data": {
      "text/plain": [
       "[<matplotlib.lines.Line2D at 0x234e8b26b20>]"
      ]
     },
     "execution_count": 10,
     "metadata": {},
     "output_type": "execute_result"
    },
    {
     "data": {
      "image/png": "[encoded data removed]",
      "text/plain": [
       "<Figure size 432x288 with 1 Axes>"
      ]
     },
     "metadata": {
      "needs_background": "light"
     },
     "output_type": "display_data"
    }
   ],
   "source": [
    "decision_boundary(X, theta)"
   ]
  },
  {
   "cell_type": "markdown",
   "metadata": {},
   "source": [
    "### 2.6 Evalulating logistic regression"
   ]
  },
  {
   "cell_type": "code",
   "execution_count": 11,
   "metadata": {},
   "outputs": [],
   "source": [
    "def predict(theta, X):\n",
    "    \"\"\"\n",
    "    Predict whether the label is 0 or 1 using learned logistic regression.\n",
    "    Computes the predictions for X using a threshold at 0.5 \n",
    "    (i.e., if sigmoid(theta.T*x) >= 0.5, predict 1)\n",
    "    \n",
    "    Parameters\n",
    "    ----------\n",
    "    theta : array_like\n",
    "        Parameters for logistic regression. A vecotor of shape (n+1, ).\n",
    "    \n",
    "    X : array_like\n",
    "        The data to use for computing predictions. The rows is the number \n",
    "        of points to compute predictions, and columns is the number of\n",
    "        features.\n",
    "\n",
    "    Returns\n",
    "    -------\n",
    "    p : array_like\n",
    "        Predictions and 0 or 1 for each row in X. \n",
    "    \n",
    "    Instructions\n",
    "    ------------\n",
    "    Complete the following code to make predictions using your learned \n",
    "    logistic regression parameters.You should set p to a vector of 0's and 1's    \n",
    "    \"\"\"\n",
    "    m = X.shape[0] # Number of training examples\n",
    "    p = sigmoid(X, theta)\n",
    "    \n",
    "    return p > 0.5"
   ]
  },
  {
   "cell_type": "code",
   "execution_count": 12,
   "metadata": {},
   "outputs": [
    {
     "name": "stdout",
     "output_type": "stream",
     "text": [
      "For a student with scores 45 and 85,we predict an admission probability of 0.776\n",
      "Expected value: 0.775 +/- 0.002\n",
      "\n",
      "Train Accuracy: 89.00 %\n",
      "Expected accuracy (approx): 89.00 %\n"
     ]
    }
   ],
   "source": [
    "#  Predict probability for a student with score 45 on exam 1 \n",
    "#  and score 85 on exam 2 \n",
    "prob = sigmoid(np.array([1, 45, 85]), theta)\n",
    "print('For a student with scores 45 and 85,'\n",
    "      f'we predict an admission probability of {prob:.3f}')\n",
    "print('Expected value: 0.775 +/- 0.002\\n')\n",
    "\n",
    "# Compute accuracy on our training set\n",
    "p = predict(theta, X)\n",
    "print('Train Accuracy: {:.2f} %'.format(np.mean(p == y) * 100))\n",
    "print('Expected accuracy (approx): 89.00 %')"
   ]
  },
  {
   "cell_type": "markdown",
   "metadata": {},
   "source": [
    "## 3 Regularized logistic regression implementation"
   ]
  },
  {
   "cell_type": "markdown",
   "metadata": {},
   "source": [
    "### 3.1 Read data"
   ]
  },
  {
   "cell_type": "code",
   "execution_count": 13,
   "metadata": {},
   "outputs": [],
   "source": [
    "# Read data\n",
    "df = pd.read_csv('ex2data2.txt', header=None, names=['test_1', 'test_2', 'status'])\n",
    "\n",
    "# Format features for analysis\n",
    "X = df.iloc[:,0:2].to_numpy()\n",
    "y = df.iloc[:,-1].to_numpy()"
   ]
  },
  {
   "cell_type": "markdown",
   "metadata": {},
   "source": [
    "### 3.2 Visualizing data"
   ]
  },
  {
   "cell_type": "code",
   "execution_count": 14,
   "metadata": {},
   "outputs": [],
   "source": [
    "def plot_data_2(df):\n",
    "    \"\"\"\n",
    "    Plots the data points X and y into a new figure.\n",
    "    PLOTDATA(x,y) plots the data points with + for the positive examples\n",
    "    and o for the negative examples. X is assumed to be a m x 2 matrix.\n",
    "    \n",
    "    Parameters\n",
    "    ----------\n",
    "    df : pd.dataframe\n",
    "        The input dataset of shape (m x 3), where m is the \n",
    "        number of examples, and n is the number of features.\n",
    "    \n",
    "    Returns\n",
    "    -------\n",
    "    fig : matplotlib.pyplot object\n",
    "        Graph of exam scores 1 and 2 with admitted and rejected applicants\n",
    "    \"\"\"\n",
    "    admitted = df.loc[df['status'] == 1]\n",
    "    rejected = df.loc[df['status'] == 0]\n",
    "    fig = plt.scatter(admitted['test_1'],\n",
    "                      admitted['test_2'],\n",
    "                      label=\"Accepted\",\n",
    "                      color='cornflowerblue'\n",
    "                      )\n",
    "    \n",
    "    fig = plt.scatter(rejected['test_1'],\n",
    "                  rejected['test_2'],\n",
    "                  label=\"Rejected\",\n",
    "                  color='tomato'\n",
    "                  )\n",
    "    plt.xlabel(\"Microchip test 1\")\n",
    "    plt.ylabel(\"Microchip test 2\")\n",
    "    plt.legend()\n",
    "    \n",
    "    return fig"
   ]
  },
  {
   "cell_type": "code",
   "execution_count": 15,
   "metadata": {},
   "outputs": [
    {
     "data": {
      "text/plain": [
       "<matplotlib.collections.PathCollection at 0x234e9b72640>"
      ]
     },
     "execution_count": 15,
     "metadata": {},
     "output_type": "execute_result"
    },
    {
     "data": {
      "image/png": "[encoded data removed]",
      "text/plain": [
       "<Figure size 432x288 with 1 Axes>"
      ]
     },
     "metadata": {
      "needs_background": "light"
     },
     "output_type": "display_data"
    }
   ],
   "source": [
    "plot_data_2(df)"
   ]
  },
  {
   "cell_type": "markdown",
   "metadata": {},
   "source": [
    "### 3.3 Feature mapping"
   ]
  },
  {
   "cell_type": "markdown",
   "metadata": {},
   "source": [
    "In the following function `mapFeature.py`, we will map the features into\n",
    "all polynomial terms of $x_1$ and $x_2$ up to the sixth power. As a result of this mapping, our vector of two features (the scores on two QA tests) has been transformed into a 28-dimensional vector. "
   ]
  },
  {
   "cell_type": "code",
   "execution_count": 16,
   "metadata": {},
   "outputs": [],
   "source": [
    "def mapFeature(X, power=6):\n",
    "    \"\"\"\n",
    "    Maps the two input features to quadratic features used in the regularization exercise.\n",
    "    Returns a new feature array with more features, comprising of\n",
    "    X1, X2, X1.^2, X2.^2, X1*X2, X1*X2.^2, etc..\n",
    "    \n",
    "    Parameters\n",
    "    ----------\n",
    "    X : array_like\n",
    "        A vector of shape (m, 2), containing features for all examples.\n",
    "        \n",
    "    power: int, optional\n",
    "        The polynomial degree.\n",
    "        \n",
    "    Returns\n",
    "    -------\n",
    "    : array_like\n",
    "        A matrix of of m rows, and columns depend on the degree of polynomial.\n",
    "        \n",
    "    \"\"\"\n",
    "    \n",
    "    features= [np.ones(len(X))] # List to contain features after mapping to polynomial\n",
    "    \n",
    "    for i in range(1, power + 1):   \n",
    "        for j in range(i + 1):\n",
    "            first = j # Polynomial terms from 0 to 6\n",
    "            second = i - j # Polynomial terms from 6 to 0\n",
    "            features.append(np.power(X[:, 0], (i - j)) * np.power(X[:, 1], j))\n",
    "\n",
    "    return np.stack(features, axis=1)"
   ]
  },
  {
   "cell_type": "code",
   "execution_count": 17,
   "metadata": {},
   "outputs": [],
   "source": [
    "X = mapFeature(X)"
   ]
  },
  {
   "cell_type": "markdown",
   "metadata": {},
   "source": [
    "The following is the implementation to compute the cost function and gradient for regularized logistic regression.\n",
    "\n",
    "Recall that the regularized cost function in logistic regression is\n",
    "$$ J(\\theta) = \\frac{1}{m} \\sum_{i=1}^m \\left[ -y^{(i)}\\log \\left( h_\\theta \\left(x^{(i)} \\right) \\right) - \\left( 1 - y^{(i)} \\right) \\log \\left( 1 - h_\\theta \\left( x^{(i)} \\right) \\right) \\right] + \\frac{\\lambda}{2m} \\sum_{j=1}^n \\theta_j^2 $$\n",
    "\n",
    "Parameters $\\theta_0$ will not be regularized."
   ]
  },
  {
   "cell_type": "code",
   "execution_count": 18,
   "metadata": {},
   "outputs": [],
   "source": [
    "def costFunctionReg(theta, X, y, lambda_):\n",
    "    \"\"\"\n",
    "    Compute cost and gradient for logistic regression with regularization.\n",
    "    \n",
    "    Parameters\n",
    "    ----------\n",
    "    theta : np.array\n",
    "        Logistic regression parameters. A vector with shape (n, ). n is \n",
    "        the number of features including any intercept. If we have mapped\n",
    "        our initial features into polynomial features, then n is the total \n",
    "        number of polynomial features. \n",
    "    \n",
    "    X : np.array\n",
    "        The data set with shape (m x n). m is the number of examples, and\n",
    "        n is the number of features (after feature mapping).\n",
    "    \n",
    "    y : np.array\n",
    "        The data labels. A vector with shape (m, ).\n",
    "    \n",
    "    lambda_ : float\n",
    "        The regularization parameter. \n",
    "    \n",
    "    Returns\n",
    "    -------\n",
    "    J : float\n",
    "        The computed value for the regularized cost function. \n",
    "    \n",
    "    grad : np.array\n",
    "        A vector of shape (n, ) which is the gradient of the cost\n",
    "        function with respect to theta, at the current values of theta.\n",
    "    \n",
    "    \"\"\"\n",
    "    m = y.size  # number of training examples\n",
    "    grad = np.zeros(theta.shape)\n",
    "    \n",
    "    # Cost function\n",
    "    reg_J = (lambda_ / (2 * m)) * (theta[1:].T.dot(theta[1:]))\n",
    "    term_1 = -y.dot(np.log(sigmoid(X, theta)))\n",
    "    term_2 = (1 - y).dot(np.log(1 - sigmoid(X, theta)))\n",
    "    J = ((1 / m) * (term_1 - term_2)) + reg_J\n",
    "    \n",
    "    # Gradient descent\n",
    "    grad = (1 / m) * (sigmoid(X, theta) - y).dot(X)\n",
    "    grad[1:] = grad[1:] + (lambda_ / m) * theta[1:]\n",
    "    \n",
    "    return J, grad"
   ]
  },
  {
   "cell_type": "code",
   "execution_count": 19,
   "metadata": {
    "scrolled": true
   },
   "outputs": [
    {
     "name": "stdout",
     "output_type": "stream",
     "text": [
      "Cost at initial theta (zeros): 0.693\n",
      "Expected cost (approx)       : 0.693\n",
      "\n",
      "\t[0.0085, 0.0188, 0.0001, 0.0503, 0.0115]\n",
      "Expected gradients (approx) - first five values only:\n",
      "\t[0.0085, 0.0188, 0.0001, 0.0503, 0.0115]\n",
      "\n",
      "------------------------------\n",
      "\n",
      "Cost at test theta    : 3.16\n",
      "Expected cost (approx): 3.16\n",
      "\n",
      "Gradient at test theta - first five values only:\n",
      "\t[0.3460, 0.1614, 0.1948, 0.2269, 0.0922]\n",
      "Expected gradients (approx) - first five values only:\n",
      "\t[0.3460, 0.1614, 0.1948, 0.2269, 0.0922]\n"
     ]
    }
   ],
   "source": [
    "# Initialize fitting parameters\n",
    "initial_theta = np.zeros(X.shape[1])\n",
    "\n",
    "# Set regularization parameter lambda to 1\n",
    "lambda_ = 1\n",
    "\n",
    "# Compute and display initial cost and gradient for regularized logistic\n",
    "# regression\n",
    "cost, grad = costFunctionReg(initial_theta, X, y, lambda_)\n",
    "\n",
    "print(f'Cost at initial theta (zeros): {cost:.3f}')\n",
    "print('Expected cost (approx)       : 0.693\\n')\n",
    "\n",
    "# print('Gradient at initial theta (zeros) - first five values only:')\n",
    "print('\\t[{:.4f}, {:.4f}, {:.4f}, {:.4f}, {:.4f}]'.format(*grad[:5]))\n",
    "print('Expected gradients (approx) - first five values only:')\n",
    "print('\\t[0.0085, 0.0188, 0.0001, 0.0503, 0.0115]\\n')\n",
    "\n",
    "# Compute and display cost and gradient\n",
    "# with all-ones theta and lambda = 10\n",
    "test_theta = np.ones(X.shape[1])\n",
    "cost, grad = costFunctionReg(test_theta, X, y, 10)\n",
    "\n",
    "print('------------------------------\\n')\n",
    "print(f'Cost at test theta    : {cost:.2f}')\n",
    "print('Expected cost (approx): 3.16\\n')\n",
    "\n",
    "print('Gradient at test theta - first five values only:')\n",
    "print('\\t[{:.4f}, {:.4f}, {:.4f}, {:.4f}, {:.4f}]'.format(*grad[:5]))\n",
    "print('Expected gradients (approx) - first five values only:')\n",
    "print('\\t[0.3460, 0.1614, 0.1948, 0.2269, 0.0922]')"
   ]
  },
  {
   "cell_type": "markdown",
   "metadata": {},
   "source": [
    "### 3.4 Learning parameters using scipy.optimize"
   ]
  },
  {
   "cell_type": "code",
   "execution_count": 20,
   "metadata": {},
   "outputs": [
    {
     "name": "stdout",
     "output_type": "stream",
     "text": [
      "Train Accuracy: 83.1 %\n",
      "Expected accuracy (with lambda = 1): 83.1 % (approx)\n",
      "\n"
     ]
    }
   ],
   "source": [
    "# Initialize fitting parameters\n",
    "\n",
    "# Set regularization parameter lambda to 1\n",
    "lambda_ = 1\n",
    "\n",
    "# set options for optimize.minimize\n",
    "options = {'maxiter': 100}\n",
    "\n",
    "result = optimize.minimize(costFunctionReg,\n",
    "                           initial_theta,\n",
    "                           (X, y, lambda_),\n",
    "                           jac=True,\n",
    "                           method='TNC',\n",
    "                           options=options)\n",
    "\n",
    "# .fun property of `OptimizeResult` object returns\n",
    "# the value of costFunction at optimized theta\n",
    "cost = result.fun\n",
    "\n",
    "# the optimized theta is in the x property\n",
    "theta = result.x\n",
    "\n",
    "# Compute accuracy on our training set\n",
    "p = predict(theta, X)\n",
    "\n",
    "print('Train Accuracy: %.1f %%' % (np.mean(p == y) * 100))\n",
    "print('Expected accuracy (with lambda = 1): 83.1 % (approx)\\n')"
   ]
  },
  {
   "cell_type": "markdown",
   "metadata": {},
   "source": [
    "### 3.5 Plotting decision boundary"
   ]
  },
  {
   "cell_type": "code",
   "execution_count": 21,
   "metadata": {},
   "outputs": [],
   "source": [
    "def decision_boundary_2(X, theta):\n",
    "    \"\"\"\n",
    "    Plots decision boundary to data.\n",
    "    \n",
    "    Parameters\n",
    "    ----------\n",
    "    X : np.array\n",
    "        The input dataset of shape (m x n+1), where m is the \n",
    "        number of examples, and n is the number of features.\n",
    "    \n",
    "    theta : np.array\n",
    "        The parameters for the regression function. This is a vector of \n",
    "        shape (n, ).\n",
    "    \n",
    "    Returns\n",
    "    -------\n",
    "    fig : matplotlib object\n",
    "        A scatter plot of values and linear regression line.\n",
    "    \"\"\"\n",
    "\n",
    "    fig = plot_data_2(df)\n",
    "    \n",
    "    # Grid range\n",
    "    u = np.linspace(-1, 1.5, 50)\n",
    "    v = np.linspace(-1, 1.5, 50)\n",
    "    \n",
    "    z = np.zeros((u.size, v.size))\n",
    "    # Evaluate z = theta * X over the grid\n",
    "    for i, ui in enumerate(u):\n",
    "        for j, vj in enumerate(v):\n",
    "            x = np.column_stack((ui, vj))\n",
    "            z[i, j] = mapFeature(x).dot(theta)\n",
    "            \n",
    "    z = z.T # Important to transpose z before calling contour\n",
    "    \n",
    "    # Plot decision boundary\n",
    "    plt.contour(u, v, z, levels=[0], linewidths=1, colors='k')\n",
    "    plt.contourf(u, v, z, levels=[np.min(z), 0, np.max(z)], cmap='PuOr', alpha=0.4)\n",
    "    plt.colorbar()\n",
    "    return fig"
   ]
  },
  {
   "cell_type": "code",
   "execution_count": 22,
   "metadata": {},
   "outputs": [
    {
     "data": {
      "text/plain": [
       "<matplotlib.collections.PathCollection at 0x234e9bd9460>"
      ]
     },
     "execution_count": 22,
     "metadata": {},
     "output_type": "execute_result"
    },
    {
     "data": {
      "image/png": "[encoded data removed]",
      "text/plain": [
       "<Figure size 432x288 with 2 Axes>"
      ]
     },
     "metadata": {
      "needs_background": "light"
     },
     "output_type": "display_data"
    }
   ],
   "source": [
    "decision_boundary_2(X, theta)"
   ]
  }
 ],
 "metadata": {
  "kernelspec": {
   "display_name": "Python 3",
   "language": "python",
   "name": "python3"
  },
  "language_info": {
   "codemirror_mode": {
    "name": "ipython",
    "version": 3
   },
   "file_extension": ".py",
   "mimetype": "text/x-python",
   "name": "python",
   "nbconvert_exporter": "python",
   "pygments_lexer": "ipython3",
   "version": "3.8.5"
  }
 },
 "nbformat": 4,
 "nbformat_minor": 4
}
