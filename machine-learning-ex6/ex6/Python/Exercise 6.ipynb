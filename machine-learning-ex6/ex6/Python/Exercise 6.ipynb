{
 "cells": [
  {
   "cell_type": "markdown",
   "metadata": {},
   "source": [
    "# Programming exercise 6: Support vector machines\n",
    "Here are my solutions for this exercise. Jupyter notebook template modified from: https://github.com/dibgerge/ml-coursera-python-assignments. The following article was used to implement sklearn's SVM module: https://towardsdatascience.com/andrew-ngs-machine-learning-course-in-python-support-vector-machines-435fc34b7bf9"
   ]
  },
  {
   "cell_type": "code",
   "execution_count": 2,
   "metadata": {},
   "outputs": [],
   "source": [
    "import pandas as pd\n",
    "import numpy as np\n",
    "import scipy.io as sio\n",
    "import matplotlib.pyplot as plt"
   ]
  },
  {
   "cell_type": "markdown",
   "metadata": {},
   "source": [
    "## 1 Support vector machines\n",
    "For this exercise, I will be using support vector machines (SVM) on various 2D datasets. Do note that `sklearn` is used for this exercise."
   ]
  },
  {
   "cell_type": "markdown",
   "metadata": {},
   "source": [
    "### 1.1 Example dataset 1"
   ]
  },
  {
   "cell_type": "code",
   "execution_count": 3,
   "metadata": {},
   "outputs": [
    {
     "name": "stdout",
     "output_type": "stream",
     "text": [
      "Data\t\tShape\n",
      "X\t\t(51, 2)\n",
      "y\t\t(51, 1)\n"
     ]
    }
   ],
   "source": [
    "# Read data\n",
    "data = sio.loadmat('ex6data1.mat')\n",
    "X = data['X']\n",
    "y = data['y']\n",
    "\n",
    "print ('Data\\t\\tShape')\n",
    "print (f'X\\t\\t{X.shape}')\n",
    "print (f'y\\t\\t{y.shape}')"
   ]
  },
  {
   "cell_type": "code",
   "execution_count": 4,
   "metadata": {},
   "outputs": [],
   "source": [
    "def plotData(X, y):\n",
    "    \"\"\"\n",
    "    Plots the data points X and y into a new figure. \n",
    "    `X` is assumed to be a Mx2 matrix\n",
    "    \n",
    "    Parameters\n",
    "    ----------\n",
    "    X : numpy ndarray\n",
    "        X is assumed to be a Mx2 matrix.\n",
    "    y : numpy ndarray\n",
    "        The data labels.\n",
    "    \"\"\"\n",
    "    pos = y.ravel() == 1\n",
    "    neg = y.ravel() == 0\n",
    "    fig = plt.scatter(X[pos, 0], \n",
    "                      X[pos, 1], \n",
    "                      label='Positive', \n",
    "                      color='cornflowerblue')\n",
    "\n",
    "    fig = plt.scatter(X[neg, 0], \n",
    "                      X[neg, 1], \n",
    "                      label='Negative', \n",
    "                      color='coral')\n",
    "    \n",
    "    plt.xlabel(r'$X1$')\n",
    "    plt.ylabel(r'$X2$')\n",
    "    plt.legend()"
   ]
  },
  {
   "cell_type": "code",
   "execution_count": 5,
   "metadata": {
    "scrolled": true
   },
   "outputs": [
    {
     "data": {
      "image/png": "[encoded data removed]",
      "text/plain": [
       "<Figure size 432x288 with 1 Axes>"
      ]
     },
     "metadata": {
      "needs_background": "light"
     },
     "output_type": "display_data"
    }
   ],
   "source": [
    "plotData(X, y)"
   ]
  },
  {
   "cell_type": "code",
   "execution_count": 6,
   "metadata": {},
   "outputs": [
    {
     "data": {
      "text/plain": [
       "Text(0.5, 1.0, 'SVM decision boundary with $C = 1$')"
      ]
     },
     "execution_count": 6,
     "metadata": {},
     "output_type": "execute_result"
    },
    {
     "data": {
      "image/png": "[encoded data removed]",
      "text/plain": [
       "<Figure size 432x288 with 1 Axes>"
      ]
     },
     "metadata": {
      "needs_background": "light"
     },
     "output_type": "display_data"
    }
   ],
   "source": [
    "from sklearn.svm import SVC\n",
    "\n",
    "# With C = 1\n",
    "classifier = SVC(C=1, kernel='linear')\n",
    "classifier.fit(X, y.ravel())\n",
    "\n",
    "# Plot decision boundary\n",
    "pos = y.ravel() == 1\n",
    "neg = y.ravel() == 0\n",
    "fig = plt.scatter(X[pos, 0], \n",
    "                  X[pos, 1], \n",
    "                  label='Positive', \n",
    "                  color='cornflowerblue')\n",
    "\n",
    "fig = plt.scatter(X[neg, 0], \n",
    "                  X[neg, 1], \n",
    "                  label='Negative', \n",
    "                  color='coral')\n",
    "\n",
    "X_1, X_2 = np.meshgrid(np.linspace(X[:, 0].min(),\n",
    "                                   X[:, 0].max(),\n",
    "                                   num=100),\n",
    "                       np.linspace(X[:, 1].min(),\n",
    "                                   X[:, 1].max(),\n",
    "                                   num=100))\n",
    "\n",
    "fig = plt.contour(X_1, X_2,\n",
    "                  classifier.predict(np.array([X_1.ravel(),\n",
    "                                               X_2.ravel()]).T).reshape(X_1.shape),\n",
    "                                    1, colors='grey')\n",
    "plt.xlim(0, 4.5)\n",
    "plt.ylim(1.5, 5)\n",
    "plt.title(r'SVM decision boundary with $C = 1$')"
   ]
  },
  {
   "cell_type": "code",
   "execution_count": 7,
   "metadata": {},
   "outputs": [
    {
     "data": {
      "text/plain": [
       "Text(0.5, 1.0, 'SVM decision boundary with $C = 100$')"
      ]
     },
     "execution_count": 7,
     "metadata": {},
     "output_type": "execute_result"
    },
    {
     "data": {
      "image/png": "[encoded data removed]",
      "text/plain": [
       "<Figure size 432x288 with 1 Axes>"
      ]
     },
     "metadata": {
      "needs_background": "light"
     },
     "output_type": "display_data"
    }
   ],
   "source": [
    "from sklearn.svm import SVC\n",
    "\n",
    "# With C = 100 - Increasing C results in low bias and high variance\n",
    "classifier = SVC(C=100, kernel='linear')\n",
    "classifier.fit(X, y.ravel())\n",
    "\n",
    "# Plot decision boundary\n",
    "pos = y.ravel() == 1\n",
    "neg = y.ravel() == 0\n",
    "fig = plt.scatter(X[pos, 0], \n",
    "                  X[pos, 1], \n",
    "                  label='Positive', \n",
    "                  color='cornflowerblue')\n",
    "\n",
    "fig = plt.scatter(X[neg, 0], \n",
    "                  X[neg, 1], \n",
    "                  label='Negative', \n",
    "                  color='coral')\n",
    "\n",
    "X_1, X_2 = np.meshgrid(np.linspace(X[:, 0].min(),\n",
    "                                   X[:, 0].max(),\n",
    "                                   num=100),\n",
    "                       np.linspace(X[:, 1].min(),\n",
    "                                   X[:, 1].max(),\n",
    "                                   num=100))\n",
    "\n",
    "fig = plt.contour(X_1, X_2,\n",
    "                  classifier.predict(np.array([X_1.ravel(),\n",
    "                                               X_2.ravel()]).T).reshape(X_1.shape),\n",
    "                                    1, colors='grey')\n",
    "plt.xlim(0, 4.5)\n",
    "plt.ylim(1.5, 5)\n",
    "plt.title(r'SVM decision boundary with $C = 100$')"
   ]
  },
  {
   "cell_type": "markdown",
   "metadata": {},
   "source": [
    "### 1.2 SVM with Gaussian kernels"
   ]
  },
  {
   "cell_type": "markdown",
   "metadata": {},
   "source": [
    "The `gaussianKernel` returns the similarity between x1 and x2 using a Gaussian kernel."
   ]
  },
  {
   "cell_type": "markdown",
   "metadata": {},
   "source": [
    "#### 1.2.1 Gaussian kernel implementation"
   ]
  },
  {
   "cell_type": "code",
   "execution_count": 8,
   "metadata": {},
   "outputs": [],
   "source": [
    "def gaussianKernel(x1, x2, sigma):\n",
    "    \"\"\"\n",
    "    Computes the radial basis function\n",
    "    Returns a radial basis function kernel between x1 and x2.\n",
    "    \n",
    "    Parameters\n",
    "    ----------\n",
    "    x1 :  numpy ndarray\n",
    "        A vector of size (n, ), representing the first datapoint.\n",
    "    \n",
    "    x2 : numpy ndarray\n",
    "        A vector of size (n, ), representing the second datapoint.\n",
    "    \n",
    "    sigma : float\n",
    "        The bandwidth parameter for the Gaussian kernel.\n",
    "\n",
    "    Returns\n",
    "    -------\n",
    "    similairty : float\n",
    "        The computed RBF between the two provided data points.\n",
    "    \"\"\"\n",
    "    \n",
    "    similarity = np.exp(-(np.sum(np.square(x1 - x2)) / (2 * (sigma**2))))\n",
    "    return similarity"
   ]
  },
  {
   "cell_type": "code",
   "execution_count": 9,
   "metadata": {},
   "outputs": [
    {
     "name": "stdout",
     "output_type": "stream",
     "text": [
      "Gaussian kernel between x1 = [1; 2; 1], x2 = [0; 4; -1], sigma = 2: \n",
      "0.324652\n",
      "(for sigma = 2, this value should be about 0.324652)\n"
     ]
    }
   ],
   "source": [
    "x1 = np.array([1, 2, 1])\n",
    "x2 = np.array([0, 4, -1])\n",
    "sigma = 2\n",
    "sim = gaussianKernel(x1, x2, sigma)\n",
    "\n",
    "print (f'Gaussian kernel between x1 = [1; 2; 1], x2 = [0; 4; -1], sigma = {sigma}: \\n{sim:.6f}')\n",
    "print ('(for sigma = 2, this value should be about 0.324652)'.format(sigma, sim))"
   ]
  },
  {
   "cell_type": "markdown",
   "metadata": {},
   "source": [
    "#### 1.2.2 Example dataset 2"
   ]
  },
  {
   "cell_type": "code",
   "execution_count": 10,
   "metadata": {},
   "outputs": [
    {
     "name": "stdout",
     "output_type": "stream",
     "text": [
      "Data\t\tShape\n",
      "X\t\t(863, 2)\n",
      "y\t\t(863, 1)\n"
     ]
    }
   ],
   "source": [
    "data = sio.loadmat('ex6data2.mat')\n",
    "X = data['X']\n",
    "y = data['y']\n",
    "\n",
    "print ('Data\\t\\tShape')\n",
    "print (f'X\\t\\t{X.shape}')\n",
    "print (f'y\\t\\t{y.shape}')"
   ]
  },
  {
   "cell_type": "code",
   "execution_count": 11,
   "metadata": {},
   "outputs": [
    {
     "data": {
      "text/plain": [
       "Text(0.5, 1.0, 'SVM decision boundary with $C = 100$')"
      ]
     },
     "execution_count": 11,
     "metadata": {},
     "output_type": "execute_result"
    },
    {
     "data": {
      "image/png": "[encoded data removed]",
      "text/plain": [
       "<Figure size 432x288 with 1 Axes>"
      ]
     },
     "metadata": {
      "needs_background": "light"
     },
     "output_type": "display_data"
    }
   ],
   "source": [
    "from sklearn.svm import SVC\n",
    "\n",
    "# Parameters\n",
    "C = 100\n",
    "gamma = 10\n",
    "\n",
    "# Classifier\n",
    "classifier = SVC(C=C, kernel='rbf', gamma=gamma)\n",
    "classifier.fit(X, y.ravel())\n",
    "\n",
    "# Plot decision boundary\n",
    "pos = y.ravel() == 1\n",
    "neg = y.ravel() == 0\n",
    "fig = plt.scatter(X[pos, 0], \n",
    "                  X[pos, 1], \n",
    "                  label='Positive', \n",
    "                  color='cornflowerblue')\n",
    "\n",
    "fig = plt.scatter(X[neg, 0], \n",
    "                  X[neg, 1], \n",
    "                  label='Negative', \n",
    "                  color='coral')\n",
    "\n",
    "X_1, X_2 = np.meshgrid(np.linspace(X[:, 0].min(),\n",
    "                                   X[:, 0].max(),\n",
    "                                   num=100),\n",
    "                       np.linspace(X[:, 1].min(),\n",
    "                                   X[:, 1].max(),\n",
    "                                   num=100))\n",
    "\n",
    "fig = plt.contour(X_1, X_2,\n",
    "                  classifier.predict(np.array([X_1.ravel(),\n",
    "                                               X_2.ravel()]).T).reshape(X_1.shape),\n",
    "                                    1, colors='grey')\n",
    "\n",
    "plt.title(r'SVM decision boundary with $C = 100$')"
   ]
  },
  {
   "cell_type": "markdown",
   "metadata": {},
   "source": [
    "#### 1.2.3 Example dataset 3"
   ]
  },
  {
   "cell_type": "code",
   "execution_count": 12,
   "metadata": {},
   "outputs": [
    {
     "name": "stdout",
     "output_type": "stream",
     "text": [
      "Data\t\tShape\n",
      "X\t\t(211, 2)\n",
      "y\t\t(211, 1)\n",
      "Xval\t\t(200, 2)\n",
      "yval\t\t(200, 1)\n"
     ]
    }
   ],
   "source": [
    "data = sio.loadmat('ex6data3.mat')\n",
    "data\n",
    "X = data['X']\n",
    "y = data['y']\n",
    "Xval = data['Xval']\n",
    "yval = data['yval']\n",
    "\n",
    "print ('Data\\t\\tShape')\n",
    "print (f'X\\t\\t{X.shape}')\n",
    "print (f'y\\t\\t{y.shape}')\n",
    "print (f'Xval\\t\\t{Xval.shape}')\n",
    "print (f'yval\\t\\t{yval.shape}')"
   ]
  },
  {
   "cell_type": "code",
   "execution_count": 13,
   "metadata": {},
   "outputs": [],
   "source": [
    "def dataset3Params(X, y, Xval, yval):\n",
    "    \"\"\"\n",
    "    Returns your choice of C and sigma for Part 3 of the exercise \n",
    "    where you select the optimal (C, sigma) learning parameters to use \n",
    "    for SVM with RBF kernel.\n",
    "    \n",
    "    Parameters\n",
    "    ----------\n",
    "    X : array_like\n",
    "        (m x n) matrix of training data where m is number of training examples, and \n",
    "        n is the number of features.\n",
    "    \n",
    "    y : array_like\n",
    "        (m, ) vector of labels for ther training data.\n",
    "    \n",
    "    Xval : array_like\n",
    "        (mv x n) matrix of validation data where mv is the number of validation examples\n",
    "        and n is the number of features\n",
    "    \n",
    "    yval : array_like\n",
    "        (mv, ) vector of labels for the validation data.\n",
    "    \n",
    "    Returns\n",
    "    -------\n",
    "    C_pick, gamma_pick : float, float\n",
    "        The best performing values for the regularization parameter C and \n",
    "        RBF parameter sigma.\n",
    "    \"\"\"\n",
    "    \n",
    "    # Parameters\n",
    "    C = [0.01, 0.03, 0.1, 0.3, 1, 3, 10, 30]\n",
    "    sigmoid = [0.01, 0.03, 0.1, 0.3, 1, 3, 10, 30]\n",
    "    gamma = np.array(sigmoid) * 10 #gamma is approximately similar to 1/σ\n",
    "    kernel = 'rbf'\n",
    "    results = []\n",
    "    \n",
    "    for i in range(len(C)):\n",
    "        for j in range(len(gamma)):\n",
    "            \n",
    "            classifier = SVC(C=C[i], kernel='rbf', gamma=gamma[j])\n",
    "            classifier.fit(X, y.ravel())\n",
    "            \n",
    "            y_val_pred = classifier.predict(Xval)\n",
    "            score = classifier.score(Xval, yval)\n",
    "            \n",
    "            results.append([C[i], gamma[j], score])\n",
    "             \n",
    "    results = np.array(results) # To view the change in accuracy\n",
    "    results_argmax = np.argmax(results, axis=0)\n",
    "    picks = results[results_argmax[2], :]\n",
    "    \n",
    "    C_pick, gamma_pick = picks[0], picks[1]\n",
    "    \n",
    "    return C_pick, gamma_pick"
   ]
  },
  {
   "cell_type": "code",
   "execution_count": 14,
   "metadata": {},
   "outputs": [
    {
     "data": {
      "text/plain": [
       "Text(0.5, 1.0, 'SVM decision boundary for dataset 3')"
      ]
     },
     "execution_count": 14,
     "metadata": {},
     "output_type": "execute_result"
    },
    {
     "data": {
      "image/png": "[encoded data removed]",
      "text/plain": [
       "<Figure size 432x288 with 1 Axes>"
      ]
     },
     "metadata": {
      "needs_background": "light"
     },
     "output_type": "display_data"
    }
   ],
   "source": [
    "# Select best parameters\n",
    "C, gamma = dataset3Params(X, y, Xval, yval)\n",
    "\n",
    "# Classifier\n",
    "classifier = SVC(C=C, kernel='rbf', gamma=gamma)\n",
    "classifier.fit(X, y.ravel())\n",
    "\n",
    "# Plot decision boundary\n",
    "pos = y.ravel() == 1\n",
    "neg = y.ravel() == 0\n",
    "fig = plt.scatter(X[pos, 0], \n",
    "                  X[pos, 1], \n",
    "                  label='Positive', \n",
    "                  color='cornflowerblue')\n",
    "\n",
    "fig = plt.scatter(X[neg, 0], \n",
    "                  X[neg, 1], \n",
    "                  label='Negative', \n",
    "                  color='coral')\n",
    "\n",
    "X_1, X_2 = np.meshgrid(np.linspace(X[:, 0].min(),\n",
    "                                   X[:, 0].max(),\n",
    "                                   num=100),\n",
    "                       np.linspace(X[:, 1].min(),\n",
    "                                   X[:, 1].max(),\n",
    "                                   num=100))\n",
    "\n",
    "fig = plt.contour(X_1, X_2,\n",
    "                  classifier.predict(np.array([X_1.ravel(),\n",
    "                                               X_2.ravel()]).T).reshape(X_1.shape),\n",
    "                                    1, colors='grey')\n",
    "plt.xlim([-0.6, 0.3])\n",
    "plt.ylim([-0.7, 0.6])\n",
    "plt.title(r'SVM decision boundary for dataset 3')"
   ]
  },
  {
   "cell_type": "markdown",
   "metadata": {},
   "source": [
    "## 2 Spam classification\n",
    "I will now be using SVM to build an email classifier."
   ]
  },
  {
   "cell_type": "code",
   "execution_count": 15,
   "metadata": {},
   "outputs": [],
   "source": [
    "import pandas as pd\n",
    "import numpy as np\n",
    "import scipy.io as sio\n",
    "import matplotlib.pyplot as plt\n",
    "from sklearn.svm import SVC\n",
    "import re\n",
    "from nltk import PorterStemmer"
   ]
  },
  {
   "cell_type": "code",
   "execution_count": 18,
   "metadata": {},
   "outputs": [
    {
     "name": "stdout",
     "output_type": "stream",
     "text": [
      "\n",
      "Preprocessing sample email (emailSample1.txt)\n",
      "\n",
      "> Anyone knows how much it costs to host a web portal ?\n",
      ">\n",
      "Well, it depends on how many visitors you're expecting.\n",
      "This can be anywhere from less than 10 bucks a month to a couple of $100. \n",
      "You should checkout http://www.rackspace.com/ or perhaps Amazon EC2 \n",
      "if youre running something big..\n",
      "\n",
      "To unsubscribe yourself from this mailing list, send an email to:\n",
      "groupname-unsubscribe@egroups.com\n",
      "\n",
      "\n"
     ]
    }
   ],
   "source": [
    "# Read emailSample1.txt\n",
    "print ('\\nPreprocessing sample email (emailSample1.txt)\\n')\n",
    "with open('emailSample1.txt', 'r') as f:\n",
    "    file_contents = f.read()\n",
    "\n",
    "print(file_contents)"
   ]
  },
  {
   "cell_type": "code",
   "execution_count": 17,
   "metadata": {},
   "outputs": [
    {
     "name": "stdout",
     "output_type": "stream",
     "text": [
      "\n",
      "Preprocessing sample email (spamSample1.txt)\n",
      "\n",
      "Do You Want To Make $1000 Or More Per Week?\n",
      "\n",
      " \n",
      "\n",
      "If you are a motivated and qualified individual - I \n",
      "will personally demonstrate to you a system that will \n",
      "make you $1,000 per week or more! This is NOT mlm.\n",
      "\n",
      " \n",
      "\n",
      "Call our 24 hour pre-recorded number to get the \n",
      "details.  \n",
      "\n",
      " \n",
      "\n",
      "000-456-789\n",
      "\n",
      " \n",
      "\n",
      "I need people who want to make serious money.  Make \n",
      "the call and get the facts. \n",
      "\n",
      "Invest 2 minutes in yourself now!\n",
      "\n",
      " \n",
      "\n",
      "000-456-789\n",
      "\n",
      " \n",
      "\n",
      "Looking forward to your call and I will introduce you \n",
      "to people like yourself who\n",
      "are currently making $10,000 plus per week!\n",
      "\n",
      " \n",
      "\n",
      "000-456-789\n",
      "\n",
      "\n",
      "\n",
      "3484lJGv6-241lEaN9080lRmS6-271WxHo7524qiyT5-438rjUv5615hQcf0-662eiDB9057dMtVl72\n",
      "\n",
      "\n"
     ]
    }
   ],
   "source": [
    "# Read emailSample1.txt\n",
    "print ('\\nPreprocessing sample email (spamSample1.txt)\\n')\n",
    "with open('spamSample1.txt', 'r') as f:\n",
    "    file_contents = f.read()\n",
    "\n",
    "print(file_contents)"
   ]
  },
  {
   "cell_type": "markdown",
   "metadata": {},
   "source": [
    "### 2.1 Preprocessing emails"
   ]
  },
  {
   "cell_type": "code",
   "execution_count": 19,
   "metadata": {},
   "outputs": [],
   "source": [
    "def processEmail(email_contents):\n",
    "    \"\"\"\n",
    "    Preprocesses the body of an email and returns a list of indices \n",
    "    of the words contained in the email.    \n",
    "    \n",
    "    Parameters\n",
    "    ----------\n",
    "    email_contents : str\n",
    "        A string containing one email. \n",
    "    \n",
    "    Returns\n",
    "    -------\n",
    "    words : list\n",
    "        A list of word tokens.\n",
    "        \n",
    "    word_indices : list\n",
    "        A list of integers containing the index of each word in the \n",
    "        email which is also present in the vocabulary.\n",
    "    \"\"\"\n",
    "    \n",
    "    # ================== Preprocess Email =================#\n",
    "    \n",
    "    # Lower case\n",
    "    email_contents = email_contents.lower()\n",
    "    \n",
    "    # Strip all HTML\n",
    "    email_contents = re.sub('<[^<>]+>',' ', email_contents)\n",
    "    \n",
    "    # Normalize numbers\n",
    "    email_contents = re.sub('\\d+', 'number', email_contents)\n",
    "    \n",
    "    # Normalize URL\n",
    "    email_contents = re.sub('(http|https)://.*', 'httpaddr', email_contents)\n",
    "    \n",
    "    # Normalize email address\n",
    "    email_contents = re.sub('(.*)@(.*)\\..*', 'emailaddr', email_contents)\n",
    "        \n",
    "    # Normalize dollars\n",
    "    dollar = re.compile('\\$+')\n",
    "    email_contents = re.sub(dollar, 'dollar ', email_contents)\n",
    "    \n",
    "    words = split(\"\"\" @$/#.-:&*+=[]?!(){},'\">_<;%\\n\\r\"\"\", email_contents)\n",
    "    \n",
    "    # Stem email contents\n",
    "    stemmer = PorterStemmer()\n",
    "    words = [stemmer.stem(word) for word in words if len(word) > 0]\n",
    "    \n",
    "    # Load vocab_list\n",
    "    vocab = getVocabList()\n",
    "    \n",
    "    # Match words with vocab\n",
    "    word_indices = [value for word in words for key, value in vocab.items() if key == word]\n",
    "\n",
    "    return words, word_indices"
   ]
  },
  {
   "cell_type": "code",
   "execution_count": 20,
   "metadata": {},
   "outputs": [],
   "source": [
    "def split(delimiters, string, maxsplit=0):\n",
    "    \"\"\"\n",
    "    Function that takes strings of delimiters,\n",
    "    adds escape characters, and splits words accordingly.\n",
    "    \"\"\"\n",
    "    \n",
    "    pattern = '|'.join(map(re.escape, delimiters))\n",
    "    return re.split(pattern, string, maxsplit)"
   ]
  },
  {
   "cell_type": "code",
   "execution_count": 21,
   "metadata": {},
   "outputs": [
    {
     "name": "stdout",
     "output_type": "stream",
     "text": [
      "Words: ['anyon', 'know', 'how', 'much', 'it', 'cost', 'to', 'host', 'a', 'web', 'portal', 'well', 'it', 'depend', 'on', 'how', 'mani', 'visitor', 'you', 're', 'expect', 'thi', 'can', 'be', 'anywher', 'from', 'less', 'than', 'number', 'buck', 'a', 'month', 'to', 'a', 'coupl', 'of', 'dollar', 'number', 'you', 'should', 'checkout', 'httpaddr', 'if', 'your', 'run', 'someth', 'big', 'to', 'unsubscrib', 'yourself', 'from', 'thi', 'mail', 'list', 'send', 'an', 'email', 'to', 'emailaddr']\n",
      "\n",
      "Word indices:  [85, 915, 793, 1076, 882, 369, 1698, 789, 1821, 1830, 882, 430, 1170, 793, 1001, 1892, 1363, 591, 1675, 237, 161, 88, 687, 944, 1662, 1119, 1061, 1698, 374, 1161, 476, 1119, 1892, 1509, 798, 809, 1894, 1439, 1546, 180, 1698, 1757, 1895, 687, 1675, 991, 960, 1476, 70, 529, 1698, 530]\n"
     ]
    }
   ],
   "source": [
    "words, word_indices = processEmail(file_contents)\n",
    "print ('Words:', words)\n",
    "print ('\\nWord indices: ', word_indices)"
   ]
  },
  {
   "cell_type": "markdown",
   "metadata": {},
   "source": [
    "#### 2.1.1 Vocabulary list"
   ]
  },
  {
   "cell_type": "code",
   "execution_count": 22,
   "metadata": {},
   "outputs": [],
   "source": [
    "def getVocabList():\n",
    "    \"\"\"\n",
    "    Reads the fixed vocabulary list in vocab.txt and \n",
    "    returns a cell array of the words\n",
    "    \n",
    "    \"\"\"\n",
    "    \n",
    "    with open('vocab.txt', 'r') as f:\n",
    "        vocab_list = f.read()\n",
    "    \n",
    "    vocab_list = re.sub('\\n', ' ', vocab_list)\n",
    "    vocab_list = re.sub('\\d+', '', vocab_list)\n",
    "    vocab_list = re.sub('\\t', '', vocab_list)\n",
    "    vocab_list = vocab_list.split()\n",
    "    \n",
    "    # Convert list to dict for quicker mapping\n",
    "    vocab_dict = {vocab_list[i]: i for i in range(len(vocab_list))}\n",
    "    \n",
    "    return vocab_dict"
   ]
  },
  {
   "cell_type": "markdown",
   "metadata": {},
   "source": [
    "### 2.2 Extracting features from emails"
   ]
  },
  {
   "cell_type": "code",
   "execution_count": 23,
   "metadata": {},
   "outputs": [],
   "source": [
    "def emailFeatures(word_indices):\n",
    "    \"\"\"\n",
    "    Takes in a word_indices vector and produces a feature vector from the word indices. \n",
    "    \n",
    "    Parameters\n",
    "    ----------\n",
    "    word_indices : list\n",
    "        A list of word indices from the vocabulary list.\n",
    "    \n",
    "    Returns\n",
    "    -------\n",
    "    feature_vector : np.array \n",
    "        The computed feature vector.\n",
    "    \"\"\"\n",
    "    \n",
    "    # Initalize important parameters\n",
    "    n = len(getVocabList()) # Total number of words in vocab list\n",
    "    \n",
    "    feature_vector = np.zeros((n,1))\n",
    "    feature_vector[word_indices] = 1\n",
    "    \n",
    "    return feature_vector"
   ]
  },
  {
   "cell_type": "code",
   "execution_count": 24,
   "metadata": {},
   "outputs": [
    {
     "name": "stdout",
     "output_type": "stream",
     "text": [
      "Length of feature vector: 1899\n",
      "Number of non-zero entries: 43\n"
     ]
    }
   ],
   "source": [
    "features = emailFeatures(word_indices)\n",
    "print(f'Length of feature vector: {len(features)}')\n",
    "print(f'Number of non-zero entries: {np.sum(features):.0f}')\n",
    "\n",
    "# Note, number of non-zero entries are slightly different to \n",
    "# assignment as \"you're\" was captured as \"you\" and \"re\"."
   ]
  },
  {
   "cell_type": "markdown",
   "metadata": {},
   "source": [
    "### 2.3 Training SVM for spam classification"
   ]
  },
  {
   "cell_type": "code",
   "execution_count": 25,
   "metadata": {},
   "outputs": [
    {
     "name": "stdout",
     "output_type": "stream",
     "text": [
      "Load datasets\n",
      "-----------------\n",
      "Data\t\tShape\n",
      "X\t\t(4000, 1899)\n",
      "y\t\t(4000,)\n",
      "X_test\t\t(1000, 1899)\n",
      "y_test\t\t(1000,)\n",
      "\n",
      "Training SVM...\n",
      "Training complete\n",
      "\n",
      "Results\n",
      "-----------------\n",
      "Training accuracy:\t99.8 %\n",
      "Test accuracy:\t\t98.9 %\n"
     ]
    }
   ],
   "source": [
    "# Load data set\n",
    "print ('Load datasets\\n-----------------')\n",
    "data = sio.loadmat('spamTrain.mat')\n",
    "X = data['X']\n",
    "y = data['y'].ravel()\n",
    "\n",
    "data = sio.loadmat('spamTest.mat')\n",
    "X_test = data['Xtest']\n",
    "y_test = data['ytest'].ravel()\n",
    "\n",
    "print ('Data\\t\\tShape')\n",
    "print (f'X\\t\\t{X.shape}')\n",
    "print (f'y\\t\\t{y.shape}')\n",
    "print (f'X_test\\t\\t{X_test.shape}')\n",
    "print (f'y_test\\t\\t{y_test.shape}')\n",
    "\n",
    "# Train SVM\n",
    "print ('\\nTraining SVM...')\n",
    "C = 0.1\n",
    "kernel = 'linear'\n",
    "classifier = SVC(C=C, kernel=kernel, gamma=gamma)\n",
    "classifier.fit(X, y)\n",
    "\n",
    "# Predict\n",
    "y_pred = classifier.predict(X_test)\n",
    "\n",
    "# Accuracy scores\n",
    "test_score = classifier.score(X, y)\n",
    "train_score = classifier.score(X_test, y_test)\n",
    "\n",
    "print ('Training complete')\n",
    "print ('\\nResults\\n-----------------')\n",
    "print (f'Training accuracy:\\t{test_score*100:.1f} %')\n",
    "print (f'Test accuracy:\\t\\t{train_score*100:.1f} %')"
   ]
  },
  {
   "cell_type": "markdown",
   "metadata": {},
   "source": [
    "### 2.4 Top predictors for spam"
   ]
  },
  {
   "cell_type": "code",
   "execution_count": 26,
   "metadata": {},
   "outputs": [
    {
     "name": "stdout",
     "output_type": "stream",
     "text": [
      "Top predictors of spam\n"
     ]
    },
    {
     "data": {
      "text/html": [
       "<div>\n",
       "<style scoped>\n",
       "    .dataframe tbody tr th:only-of-type {\n",
       "        vertical-align: middle;\n",
       "    }\n",
       "\n",
       "    .dataframe tbody tr th {\n",
       "        vertical-align: top;\n",
       "    }\n",
       "\n",
       "    .dataframe thead th {\n",
       "        text-align: right;\n",
       "    }\n",
       "</style>\n",
       "<table border=\"1\" class=\"dataframe\">\n",
       "  <thead>\n",
       "    <tr style=\"text-align: right;\">\n",
       "      <th></th>\n",
       "      <th>weights</th>\n",
       "    </tr>\n",
       "  </thead>\n",
       "  <tbody>\n",
       "    <tr>\n",
       "      <th>our</th>\n",
       "      <td>0.500614</td>\n",
       "    </tr>\n",
       "    <tr>\n",
       "      <th>click</th>\n",
       "      <td>0.465916</td>\n",
       "    </tr>\n",
       "    <tr>\n",
       "      <th>remov</th>\n",
       "      <td>0.422869</td>\n",
       "    </tr>\n",
       "    <tr>\n",
       "      <th>guarante</th>\n",
       "      <td>0.383622</td>\n",
       "    </tr>\n",
       "    <tr>\n",
       "      <th>visit</th>\n",
       "      <td>0.367710</td>\n",
       "    </tr>\n",
       "    <tr>\n",
       "      <th>basenumb</th>\n",
       "      <td>0.345064</td>\n",
       "    </tr>\n",
       "    <tr>\n",
       "      <th>dollar</th>\n",
       "      <td>0.323632</td>\n",
       "    </tr>\n",
       "    <tr>\n",
       "      <th>will</th>\n",
       "      <td>0.269724</td>\n",
       "    </tr>\n",
       "    <tr>\n",
       "      <th>price</th>\n",
       "      <td>0.267298</td>\n",
       "    </tr>\n",
       "    <tr>\n",
       "      <th>pleas</th>\n",
       "      <td>0.261169</td>\n",
       "    </tr>\n",
       "    <tr>\n",
       "      <th>most</th>\n",
       "      <td>0.257298</td>\n",
       "    </tr>\n",
       "    <tr>\n",
       "      <th>nbsp</th>\n",
       "      <td>0.253941</td>\n",
       "    </tr>\n",
       "    <tr>\n",
       "      <th>lo</th>\n",
       "      <td>0.253467</td>\n",
       "    </tr>\n",
       "    <tr>\n",
       "      <th>ga</th>\n",
       "      <td>0.248297</td>\n",
       "    </tr>\n",
       "    <tr>\n",
       "      <th>hour</th>\n",
       "      <td>0.246404</td>\n",
       "    </tr>\n",
       "    <tr>\n",
       "      <th>al</th>\n",
       "      <td>0.237311</td>\n",
       "    </tr>\n",
       "  </tbody>\n",
       "</table>\n",
       "</div>"
      ],
      "text/plain": [
       "           weights\n",
       "our       0.500614\n",
       "click     0.465916\n",
       "remov     0.422869\n",
       "guarante  0.383622\n",
       "visit     0.367710\n",
       "basenumb  0.345064\n",
       "dollar    0.323632\n",
       "will      0.269724\n",
       "price     0.267298\n",
       "pleas     0.261169\n",
       "most      0.257298\n",
       "nbsp      0.253941\n",
       "lo        0.253467\n",
       "ga        0.248297\n",
       "hour      0.246404\n",
       "al        0.237311"
      ]
     },
     "execution_count": 26,
     "metadata": {},
     "output_type": "execute_result"
    }
   ],
   "source": [
    "# Code for the following was modified from: \n",
    "# https://towardsdatascience.com/andrew-ngs-machine-learning-course-in-python-support-vector-machines-435fc34b7bf9\n",
    "\n",
    "vocab = getVocabList()\n",
    "weights = classifier.coef_[0].reshape((len(vocab), 1))\n",
    "vocab_weights = pd.DataFrame(weights, vocab)\n",
    "vocab_weights.columns = ['weights']\n",
    "\n",
    "# Find words that with the highest weights\n",
    "vocab_weights.sort_values(by=['weights'], ascending=False, inplace=True)\n",
    "print('Top predictors of spam')\n",
    "vocab_weights[0:16]"
   ]
  }
 ],
 "metadata": {
  "kernelspec": {
   "display_name": "Python 3",
   "language": "python",
   "name": "python3"
  },
  "language_info": {
   "codemirror_mode": {
    "name": "ipython",
    "version": 3
   },
   "file_extension": ".py",
   "mimetype": "text/x-python",
   "name": "python",
   "nbconvert_exporter": "python",
   "pygments_lexer": "ipython3",
   "version": "3.8.5"
  }
 },
 "nbformat": 4,
 "nbformat_minor": 4
}
