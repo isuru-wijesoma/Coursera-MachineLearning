{
 "cells": [
  {
   "cell_type": "markdown",
   "metadata": {},
   "source": [
    "# Programming exercise 5: Regularized linear regression and bias versus variance\n",
    "Here are my solutions for this exercise. Jupyter notebook template modified from: https://github.com/dibgerge/ml-coursera-python-assignments."
   ]
  },
  {
   "cell_type": "code",
   "execution_count": 1,
   "metadata": {},
   "outputs": [],
   "source": [
    "import pandas as pd\n",
    "import numpy as np\n",
    "import matplotlib.pyplot as plt\n",
    "from scipy import optimize\n",
    "import scipy.io as sio"
   ]
  },
  {
   "cell_type": "markdown",
   "metadata": {},
   "source": [
    "## 1 Regularized linear regression\n",
    "\n",
    "Implementation of regularized linear regression to predict the amount of water flowing out a dam."
   ]
  },
  {
   "cell_type": "code",
   "execution_count": 2,
   "metadata": {},
   "outputs": [
    {
     "name": "stdout",
     "output_type": "stream",
     "text": [
      "Data set: \tShape:\n",
      "X: \t\t(12, 1)\n",
      "y: \t\t(12, 1)\n",
      "X_val: \t\t(21, 1)\n",
      "y_val: \t\t(21, 1)\n",
      "X_test: \t(21, 1)\n",
      "y_test: \t(21, 1)\n"
     ]
    }
   ],
   "source": [
    "# Load dataset\n",
    "data = sio.loadmat('ex5data1.mat')\n",
    "X, y = data['X'], data['y'] # Training set\n",
    "X_val, y_val = data['Xval'], data['yval'] # Cross validation set\n",
    "X_test, y_test = data['Xtest'], data['ytest'] # Test set\n",
    "\n",
    "print (f'Data set: \\tShape:')\n",
    "print (f'X: \\t\\t{X.shape}\\ny: \\t\\t{y.shape}')\n",
    "print (f'X_val: \\t\\t{X_val.shape}\\ny_val: \\t\\t{y_val.shape}')\n",
    "print (f'X_test: \\t{X_test.shape}\\ny_test: \\t{y_test.shape}')"
   ]
  },
  {
   "cell_type": "code",
   "execution_count": 3,
   "metadata": {},
   "outputs": [
    {
     "name": "stdout",
     "output_type": "stream",
     "text": [
      "Data set: \tShape:\n",
      "X: \t\t(12, 2)\n",
      "X_val: \t\t(21, 2)\n",
      "X_test: \t(21, 2)\n"
     ]
    }
   ],
   "source": [
    "# Add bias terms to X data\n",
    "X = np.concatenate([np.ones((len(X), 1)), X], axis=1)\n",
    "X_val = np.concatenate([np.ones((len(X_val), 1)), X_val], axis=1)\n",
    "X_test = np.concatenate([np.ones((len(X_test), 1)), X_test], axis=1)\n",
    "\n",
    "print (f'Data set: \\tShape:')\n",
    "print (f'X: \\t\\t{X.shape}')\n",
    "print (f'X_val: \\t\\t{X_val.shape}')\n",
    "print (f'X_test: \\t{X_test.shape}')"
   ]
  },
  {
   "cell_type": "markdown",
   "metadata": {},
   "source": [
    "### 1.1 Visualizing the data set"
   ]
  },
  {
   "cell_type": "code",
   "execution_count": 4,
   "metadata": {},
   "outputs": [],
   "source": [
    "def plot_data(X, y):\n",
    "    \"\"\"\n",
    "    Plots the data points X and y into a new figure.\n",
    "    PLOTDATA(x,y) plots the data points with + for the positive examples\n",
    "    and o for the negative examples. X is assumed to be a m x 2 matrix.\n",
    "    \n",
    "    Parameters\n",
    "    ----------\n",
    "    X : np.array\n",
    "        The input dataset of shape (m x 1), where m is the \n",
    "        number of examples, and n is the number of features.\n",
    "        \n",
    "    y : np.array\n",
    "    The input dataset of shape (m x 1), where m is the \n",
    "    number of examples, and n is the number of features.\n",
    "\n",
    "    Returns\n",
    "    -------\n",
    "    fig : matplotlib.pyplot object\n",
    "        Scatter plot of X versus y\n",
    "    \"\"\"\n",
    "    \n",
    "    plt.scatter(X[:, 1: ], y, color='cornflowerblue')\n",
    "    plt.xlabel('Change in water level')\n",
    "    plt.ylabel('Water flowing out of dam')"
   ]
  },
  {
   "cell_type": "code",
   "execution_count": 5,
   "metadata": {},
   "outputs": [
    {
     "data": {
      "image/png": "[encoded data removed]",
      "text/plain": [
       "<Figure size 432x288 with 1 Axes>"
      ]
     },
     "metadata": {
      "needs_background": "light"
     },
     "output_type": "display_data"
    }
   ],
   "source": [
    "training_set_fig = plot_data(X, y)"
   ]
  },
  {
   "cell_type": "markdown",
   "metadata": {},
   "source": [
    "### 1.2 Regularized linear regression cost function\n",
    "Recall that regularized linear regression has the following cost function:\n",
    "$$ J(\\theta) = \\frac{1}{2m} \\left( \\sum_{i=1}^m \\left( h_\\theta\\left( x^{(i)} \\right) - y^{(i)} \\right)^2 \\right) + \\frac{\\lambda}{2m} \\left( \\sum_{j=1}^n \\theta_j^2 \\right)$$\n",
    "\n",
    "where $\\lambda$ is a regularization parameter which controls the degree of regularization (thus, help preventing overfitting). The regularization term puts a penalty on the overall cost J. As the magnitudes of the model parameters $\\theta_j$ increase, the penalty increases as well."
   ]
  },
  {
   "cell_type": "code",
   "execution_count": 6,
   "metadata": {},
   "outputs": [],
   "source": [
    "def linearRegCostFunction(X, y, theta, lambda_):\n",
    "    \"\"\"\n",
    "    Compute cost and gradient for regularized linear regression \n",
    "    with multiple variables. Computes the cost of using theta as\n",
    "    the parameter for linear regression to fit the data points in X and y. \n",
    "    \n",
    "    Parameters\n",
    "    ----------\n",
    "    X : array_like\n",
    "        The dataset. Matrix with shape (m x n + 1) where m is the \n",
    "        total number of examples, and n is the number of features \n",
    "        after adding the bias term.\n",
    "    \n",
    "    y : array_like\n",
    "        The functions values at each datapoint. A vector of\n",
    "        shape (m, ).\n",
    "    \n",
    "    theta : array_like\n",
    "        The parameters for linear regression. A vector of shape (n+1,).\n",
    "    \n",
    "    lambda_ : float, optional\n",
    "        The regularization parameter.\n",
    "    \n",
    "    Returns\n",
    "    -------\n",
    "    J : float\n",
    "        The computed cost function. \n",
    "    \n",
    "    grad : array_like\n",
    "        The value of the cost function gradient w.r.t theta. \n",
    "        A vector of shape (n+1, ).\n",
    "    \"\"\"\n",
    "    \n",
    "    # Initialize useful variables\n",
    "    m = X.shape[0]\n",
    "    grad = np.zeros(theta.shape[0])\n",
    "    \n",
    "    # Rehshape y to (m, ) maxtrix\n",
    "    y = y.ravel()\n",
    "\n",
    "    # -- Cost function -----#\n",
    "    h = X.dot(theta) # hypothesis\n",
    "    J = (1 / (2 * m)) * np.sum(np.square(h - y)) # Unregularized cost function\n",
    "    J_reg = (lambda_ / (2 * m)) * (theta[1:].T.dot(theta[1:])) # Regularization\n",
    "    J += J_reg\n",
    "    \n",
    "    # -- gradient descent -----#\n",
    "    grad = (1 / m) * ((h - y).dot(X))\n",
    "    grad_reg = (lambda_ / m) * theta\n",
    "    grad[1: ] += grad_reg[1: ]\n",
    "\n",
    "    return J, grad"
   ]
  },
  {
   "cell_type": "code",
   "execution_count": 8,
   "metadata": {},
   "outputs": [
    {
     "name": "stdout",
     "output_type": "stream",
     "text": [
      "Cost at theta = [1, 1]:\t   303.993192 \n",
      "This value should be about 303.993192\n",
      "\n"
     ]
    }
   ],
   "source": [
    "# Implementation of cost function\n",
    "theta = np.ones(2)\n",
    "J, grad = linearRegCostFunction(X, y, theta, 1)\n",
    "\n",
    "print('Cost at theta = [1, 1]:\\t   %f ' % J)\n",
    "print('This value should be about 303.993192\\n' % J)"
   ]
  },
  {
   "cell_type": "markdown",
   "metadata": {},
   "source": [
    "### 1.3 Regularized linear regression gradient"
   ]
  },
  {
   "cell_type": "markdown",
   "metadata": {},
   "source": [
    "Correspondingly, the partial derivative of the cost function for regularized linear regression is defined as:\n",
    "$$ \\begin{align} \\hfill \\frac{\\partial J(\\theta)}{\\partial \\theta_0} = \\frac{1}{m} \\sum_{i=1}^m \\left( h_\\theta \\left(x^{(i)} \\right) - y^{(i)} \\right) x_j^{(i)} \\hfill \\qquad \\text{for } j = 0 \\\\ \\hfill \\frac{\\partial J(\\theta)}{\\partial \\theta_j} = \\left( \\frac{1}{m} \\sum_{i=1}^m \\left( h_\\theta \\left( x^{(i)} \\right) - y^{(i)} \\right) x_j^{(i)} \\right) + \\frac{\\lambda}{m} \\theta_j \\hfill \\qquad \\text{for } j \\ge 1 \\end{align} $$\n",
    "\n",
    "`linearRegCostFunction` has the code for gradient. The gradient function using theta initialized at [1, 1] should be [-15.30, 598.250]."
   ]
  },
  {
   "cell_type": "code",
   "execution_count": 9,
   "metadata": {
    "scrolled": true
   },
   "outputs": [
    {
     "name": "stdout",
     "output_type": "stream",
     "text": [
      "Gradient at theta = [1, 1]:  [-15.303016, 598.250744] \n",
      " (this value should be about [-15.303016, 598.250744])\n",
      "\n"
     ]
    }
   ],
   "source": [
    "# Implementation of gradient descent\n",
    "theta = np.ones(2)\n",
    "J, grad = linearRegCostFunction(X, y, theta, 1)\n",
    "\n",
    "print('Gradient at theta = [1, 1]:  [{:.6f}, {:.6f}] '.format(*grad))\n",
    "print(' (this value should be about [-15.303016, 598.250744])\\n')"
   ]
  },
  {
   "cell_type": "markdown",
   "metadata": {},
   "source": [
    "### 1.4 Fitting linear regression"
   ]
  },
  {
   "cell_type": "code",
   "execution_count": 12,
   "metadata": {},
   "outputs": [],
   "source": [
    "def trainLinearReg(X, y, lambda_=0.0, maxiter=200):\n",
    "    \"\"\"\n",
    "    Trains linear regression using scipy's optimize.minimize.\n",
    "    Parameters\n",
    "    ----------\n",
    "    X : array_like\n",
    "        The dataset with shape (m x n+1). \n",
    "        The bias term is assumed to be concatenated.\n",
    "        \n",
    "    y : array_like\n",
    "        Function values at each datapoint. A vector of shape (m,).\n",
    "        \n",
    "    lambda_ : float, optional\n",
    "        The regularization parameter.\n",
    "        \n",
    "    maxiter : int, optional\n",
    "        Maximum number of iteration for the optimization algorithm.\n",
    "        \n",
    "    Returns\n",
    "    -------\n",
    "    theta : array_like\n",
    "        The parameters for linear regression. This is a vector of shape (n+1,).\n",
    "    \"\"\"\n",
    "\n",
    "    # Initialize important variables\n",
    "    m = X.shape[0]\n",
    "    initial_theta = np.zeros(X.shape[1])\n",
    "    \n",
    "    # Options\n",
    "    options = {'maxiter': maxiter}\n",
    "    \n",
    "    # Short hand\n",
    "    costFunction = lambda p: linearRegCostFunction(X, y, p, lambda_)\n",
    "    \n",
    "    # Minimize the cost function\n",
    "    result = optimize.minimize(costFunction,\n",
    "                               initial_theta,\n",
    "                               jac=True,\n",
    "                               method='TNC',\n",
    "                               options=options)\n",
    "    \n",
    "    # Solutions\n",
    "    theta = result.x\n",
    "    \n",
    "    return theta"
   ]
  },
  {
   "cell_type": "code",
   "execution_count": 13,
   "metadata": {},
   "outputs": [],
   "source": [
    "# Train linear regression with lambda_ = 0\n",
    "lambda_ = 0\n",
    "theta = trainLinearReg(X, y, lambda_)"
   ]
  },
  {
   "cell_type": "code",
   "execution_count": 14,
   "metadata": {},
   "outputs": [
    {
     "data": {
      "text/plain": [
       "<matplotlib.legend.Legend at 0x201cc165a60>"
      ]
     },
     "execution_count": 14,
     "metadata": {},
     "output_type": "execute_result"
    },
    {
     "data": {
      "image/png": "[encoded data removed]",
      "text/plain": [
       "<Figure size 432x288 with 1 Axes>"
      ]
     },
     "metadata": {
      "needs_background": "light"
     },
     "output_type": "display_data"
    }
   ],
   "source": [
    "# Plot fit over the data\n",
    "plt.scatter(X[:, 1: ], y, color='cornflowerblue')\n",
    "plt.plot(X, theta[0] + theta[1] * X, 'c')\n",
    "plt.xlabel('Change in water level')\n",
    "plt.ylabel('Water flowing out of dam')\n",
    "plt.legend(['Linear regression', 'Training data'])"
   ]
  },
  {
   "cell_type": "markdown",
   "metadata": {},
   "source": [
    "## 2 Bias-variance\n",
    "An important concept in machine learning is the bias-variance tradeoff. Models with high bias are not complex enough for the data and tend to underfit, while models with high variance overfit to the training data.\n",
    "\n",
    "In this part of the exercise, I will plot training and test errors on a\n",
    "learning curve to diagnose bias-variance problems."
   ]
  },
  {
   "cell_type": "markdown",
   "metadata": {},
   "source": [
    "### 2.1 Learning curves\n",
    "To plot the learning curve, we need a training and cross validation set error for different training set sizes. To obtain different training set sizes, I will use different subsets of the original training set X. Specifically, for a training set size of $i$, I will use the first $i$ examples (i.e., X[:i, :] and y[:i]).\n",
    "\n",
    "I will use the `trainLinearReg` function to find the $\\theta$ parameters. Note that the lambda_ is passed as a parameter to the learningCurve function. After learning the $\\theta$ parameters, I will compute the error on the training and cross validation sets. Recall that the training error for a dataset is defined as\n",
    "$$ J_{\\text{train}} = \\frac{1}{2m} \\left[ \\sum_{i=1}^m \\left(h_\\theta \\left( x^{(i)} \\right) - y^{(i)} \\right)^2 \\right] $$\n",
    "\n",
    "In particular, note that the training error does not include the regularization term. "
   ]
  },
  {
   "cell_type": "code",
   "execution_count": 15,
   "metadata": {},
   "outputs": [],
   "source": [
    "def learningCurve(X, y, X_val, y_val, lambda_=0):\n",
    "    \"\"\"\n",
    "    Generates the train and cross validation set errors needed to plot a learning curve\n",
    "    returns the train and cross validation set errors for a learning curve. \n",
    "    \n",
    "    In this function, we will compute the train and test errors for\n",
    "    dataset sizes from 1 up to m.\n",
    "    \n",
    "    Parameters\n",
    "    ----------\n",
    "    X : array_like\n",
    "        The training dataset. Matrix with shape (m x n + 1) where m is the \n",
    "        total number of examples, and n is the number of features \n",
    "        after adding the bias term.\n",
    "    \n",
    "    y : array_like\n",
    "        The functions values at each training datapoint. A vector of\n",
    "        shape (m, ).\n",
    "    \n",
    "    X_val : array_like\n",
    "        The validation dataset. Matrix with shape (m_val x n + 1) where m is the \n",
    "        total number of examples, and n is the number of features \n",
    "        before adding the bias term.\n",
    "    \n",
    "    y_val : array_like\n",
    "        The functions values at each validation datapoint. A vector of\n",
    "        shape (m_val, ).\n",
    "    \n",
    "    lambda_ : float, optional\n",
    "        The regularization parameter.\n",
    "    \n",
    "    Returns\n",
    "    -------\n",
    "    error_train : array_like\n",
    "        A vector of shape m. error_train[i] contains the training error for\n",
    "        i examples.\n",
    "        \n",
    "    error_val : array_like\n",
    "        A vector of shape m. error_val[i] contains the validation error for\n",
    "        i training examples.\n",
    "    \"\"\"\n",
    "    \n",
    "    # Initialize important variables\n",
    "    m = X.shape[0]\n",
    "    error_train = np.zeros(m)\n",
    "    error_val = np.zeros(m)\n",
    "    \n",
    "    for i in range(m):\n",
    "        theta = trainLinearReg(X[:i+1, ], y[:i+1, ], lambda_)\n",
    "        error_train[i], _ = linearRegCostFunction(X[:i+1, ],\n",
    "                                                  y[:i+1, ],\n",
    "                                                  theta, 0)\n",
    "        error_val[i], _ = linearRegCostFunction(X_val,\n",
    "                                                y_val,\n",
    "                                                theta, 0)\n",
    "    return error_train, error_val"
   ]
  },
  {
   "cell_type": "code",
   "execution_count": 16,
   "metadata": {},
   "outputs": [],
   "source": [
    "error_train, error_val = learningCurve(X, y, X_val, y_val, lambda_)"
   ]
  },
  {
   "cell_type": "code",
   "execution_count": 17,
   "metadata": {},
   "outputs": [
    {
     "data": {
      "text/plain": [
       "Text(0.5, 1.0, 'Learning curve for linear regression')"
      ]
     },
     "execution_count": 17,
     "metadata": {},
     "output_type": "execute_result"
    },
    {
     "data": {
      "image/png": "[encoded data removed]",
      "text/plain": [
       "<Figure size 432x288 with 1 Axes>"
      ]
     },
     "metadata": {
      "needs_background": "light"
     },
     "output_type": "display_data"
    }
   ],
   "source": [
    "# Plot learning curve\n",
    "plt.plot(list(range(1, X.shape[0]+1)), error_train, color='cornflowerblue', label='Train')\n",
    "plt.plot(list(range(1, X.shape[0]+1)), error_val, color='coral', label='Cross validation')\n",
    "\n",
    "plt.xlabel('Number of training examples')\n",
    "plt.ylabel('Error')\n",
    "plt.legend(['Train', 'Cross validation'])\n",
    "plt.title('Learning curve for linear regression')"
   ]
  },
  {
   "cell_type": "markdown",
   "metadata": {},
   "source": [
    "## 3 Polynomial regression\n",
    "\n",
    "The problem with our linear model was that it was too simple for the data\n",
    "and resulted in underfitting (high bias). In this part of the exercise, I will address this problem by adding more features. For polynomial regression, our hypothesis has the form:\n",
    "$$ \\begin{align} h_\\theta(x) \\hfill = \\theta_0 + \\theta_1 \\times (\\text{waterLevel}) + \\theta_2 \\times (\\text{waterLevel})^2 + \\cdots + \\theta_p \\times (\\text{waterLevel})^p \\\\ \\hfill = \\theta_0 + \\theta_1 x_1 + \\theta_2 x_2 + \\cdots + \\theta_p x_p \\end{align} $$\n",
    "\n",
    "Notice that by defining $x_1 = (\\text{waterLevel})$, $x_2 = (\\text{waterLevel})^2$ , $\\cdots$, $x_p = (\\text{waterLevel})^p$, we obtain a linear regression model where the features are the various powers of the original value (waterLevel)."
   ]
  },
  {
   "cell_type": "code",
   "execution_count": 18,
   "metadata": {},
   "outputs": [],
   "source": [
    "def polyFeatures(X, p):\n",
    "    \"\"\"\n",
    "    Maps X (1D vector) into the p-th power.\n",
    "    \n",
    "    Parameters\n",
    "    ----------\n",
    "    X : array_like\n",
    "        A data vector of size m, where m is the number of examples.\n",
    "    \n",
    "    p : int\n",
    "        The polynomial power to map the features. \n",
    "    \n",
    "    Returns \n",
    "    -------\n",
    "    X_poly : array_like\n",
    "        A matrix of shape (m x p) where p is the polynomial \n",
    "        power and m is the number of examples. That is:\n",
    "    \n",
    "        X_poly[i, :] = [X[i], X[i]**2, X[i]**3 ...  X[i]**p]\n",
    "    \"\"\"\n",
    "    \n",
    "    # Initalize important variables\n",
    "    m = X.shape[0]\n",
    "    X_poly = np.zeros((m, p + 1))\n",
    "    \n",
    "    for i in range(p + 1):\n",
    "        X_poly[:, i] = np.power(X[:, 1], i)\n",
    "    \n",
    "    return X_poly"
   ]
  },
  {
   "cell_type": "code",
   "execution_count": 19,
   "metadata": {},
   "outputs": [],
   "source": [
    "p = 8\n",
    "X_poly = polyFeatures(X, p)"
   ]
  },
  {
   "cell_type": "markdown",
   "metadata": {},
   "source": [
    "### 3.1 Learning polynomial regression"
   ]
  },
  {
   "cell_type": "markdown",
   "metadata": {},
   "source": [
    "I have completed the function `polyFeatures`, and I will proceed to train polynomial regression using the linear regression cost function. Before learning the parameters $\\theta$ for the polynomial regression, I will first call `featureNormalize` and normalize the features of the training set, storing the `mu` and `sigma` parameters separately."
   ]
  },
  {
   "cell_type": "code",
   "execution_count": 23,
   "metadata": {},
   "outputs": [],
   "source": [
    "def featureNormalize(X):\n",
    "    \"\"\"\n",
    "    Normalizes the features in X returns a normalized version of X \n",
    "    where the mean value of each feature is 0 and the standard deviation \n",
    "    is 1. This is often a good preprocessing step to do when working \n",
    "    with learning algorithms.\n",
    "    \n",
    "    Parameters\n",
    "    ----------\n",
    "    X : array_like\n",
    "        An dataset which is a (m x n) matrix, where m is the number of \n",
    "        examples,and n is the number of dimensions for each example.\n",
    "    \n",
    "    Returns\n",
    "    -------\n",
    "    X_norm : array_like\n",
    "        The normalized input dataset.\n",
    "        \n",
    "    mean : array_like\n",
    "        A vector of size n corresponding to the mean for each \n",
    "        dimension across all examples.\n",
    "        \n",
    "    std : array_like\n",
    "        A vector of size n corresponding to the standard deviations \n",
    "        for each dimension across all examples.\n",
    "    \"\"\"\n",
    "        \n",
    "    mean = np.mean(X, axis=0)\n",
    "    std = X.std(axis=0, ddof=1)\n",
    "    X_normalized = (X[:, 1:] - mean[1:]) / std[1:]\n",
    "    \n",
    "    return mean, std, X_normalized"
   ]
  },
  {
   "cell_type": "code",
   "execution_count": 24,
   "metadata": {},
   "outputs": [
    {
     "name": "stdout",
     "output_type": "stream",
     "text": [
      "Normalized Training Example 1:\n",
      "[ 1.         -0.36214078 -0.75508669  0.18222588 -0.70618991  0.30661792\n",
      " -0.59087767  0.3445158  -0.50848117]\n"
     ]
    }
   ],
   "source": [
    "# Feature normalize\n",
    "mean, std, X_poly = featureNormalize(X_poly) \n",
    "X_poly = np.concatenate([np.ones((X_poly.shape[0], 1)), X_poly], axis=1)\n",
    "print ('Normalized Training Example 1:')\n",
    "print (X_poly[0, :])"
   ]
  },
  {
   "cell_type": "code",
   "execution_count": 25,
   "metadata": {},
   "outputs": [],
   "source": [
    "# Map X_poly_test and normalize using mean and std\n",
    "X_poly_test = polyFeatures(X_test, p)\n",
    "X_poly_test = (X_poly_test[:, 1: ] - mean[1:]) / std[1: ]\n",
    "X_poly_test = np.concatenate([np.ones((X_poly_test.shape[0], 1)), X_poly_test], axis=1)"
   ]
  },
  {
   "cell_type": "code",
   "execution_count": 26,
   "metadata": {},
   "outputs": [],
   "source": [
    "# Map X_poly_val and normalize using mean and std\n",
    "X_poly_val = polyFeatures(X_val, p)\n",
    "X_poly_val = (X_poly_val[:, 1: ] - mean[1:]) / std[1: ]\n",
    "X_poly_val = np.concatenate([np.ones((X_poly_val.shape[0], 1)), X_poly_val], axis=1)"
   ]
  },
  {
   "cell_type": "markdown",
   "metadata": {},
   "source": [
    "Now, we will get to experiment with polynomial regression with multiple values of lambda. The code below runs polynomial regression with lambda = 0."
   ]
  },
  {
   "cell_type": "code",
   "execution_count": 27,
   "metadata": {},
   "outputs": [],
   "source": [
    "lambda_ = 0\n",
    "theta = trainLinearReg(X_poly, y, lambda_)"
   ]
  },
  {
   "cell_type": "code",
   "execution_count": 28,
   "metadata": {},
   "outputs": [
    {
     "data": {
      "image/png": "[encoded data removed]",
      "text/plain": [
       "<Figure size 432x288 with 1 Axes>"
      ]
     },
     "metadata": {
      "needs_background": "light"
     },
     "output_type": "display_data"
    }
   ],
   "source": [
    "# Polynomial regression fit code\n",
    "\n",
    "test_x_values = np.linspace(-60, 60, 50).reshape(50, 1)\n",
    "test_x_values = np.concatenate([np.ones((test_x_values.shape[0], 1)), test_x_values], axis=1)\n",
    "\n",
    "# Calculate hypothesis function using theta\n",
    "test_x_values = polyFeatures(test_x_values, p) # Change to polynomial features\n",
    "test_x_values = (test_x_values[:, 1: ] - mean[1: ])/ std[1: ] # Feature normalize\n",
    "test_x_values = np.concatenate([np.ones((test_x_values.shape[0], 1)), test_x_values], axis=1)\n",
    "\n",
    "# Compute hypothesis function with theta\n",
    "test_y_values = test_x_values.dot(theta.T) \n",
    "\n",
    "# Plot hypothesis function\n",
    "plt.scatter(X[:, 1: ], y, color='cornflowerblue')\n",
    "plt.plot(np.linspace(-60, 60), test_y_values, color='coral')\n",
    "plt.xlabel('Change in water level')\n",
    "plt.ylabel('Water flowing out of the dam')\n",
    "plt.title('Polynomial regression fit (lambda = {})'.format(lambda_))\n",
    "plt.show()"
   ]
  },
  {
   "cell_type": "markdown",
   "metadata": {},
   "source": [
    "The polynomial fit is able to follow the datapoints very well, thus, obtaining a low training error. However, the polynomial fit is very complex and even drops off at the extremes. This is an indicator that the polynomial regression model is overfitting the training data and will not generalize well."
   ]
  },
  {
   "cell_type": "code",
   "execution_count": 29,
   "metadata": {},
   "outputs": [
    {
     "data": {
      "text/plain": [
       "Text(0.5, 1.0, 'Polynomial regression learning curve (lambda = 0)')"
      ]
     },
     "execution_count": 29,
     "metadata": {},
     "output_type": "execute_result"
    },
    {
     "data": {
      "image/png": "[encoded data removed]",
      "text/plain": [
       "<Figure size 432x288 with 1 Axes>"
      ]
     },
     "metadata": {
      "needs_background": "light"
     },
     "output_type": "display_data"
    }
   ],
   "source": [
    "# Plotting the learning curve\n",
    "error_train, error_val = learningCurve(X_poly,\n",
    "                                       y,\n",
    "                                       X_poly_val,\n",
    "                                       y_val,\n",
    "                                       lambda_)\n",
    "# Plot learning over the data\n",
    "plt.plot(list(range(1, X.shape[0]+1)), error_train, color='cornflowerblue', label='Train')\n",
    "plt.plot(list(range(1, X.shape[0]+1)), error_val, color='coral', label='Cross validation')\n",
    "\n",
    "plt.xlabel('Number of training examples')\n",
    "plt.ylabel('Error')\n",
    "plt.legend(['Train', 'Cross validation'])\n",
    "plt.title('Polynomial regression learning curve (lambda = {})'.format(lambda_))"
   ]
  },
  {
   "cell_type": "markdown",
   "metadata": {},
   "source": [
    "To better understand the problems with the unregularized ($\\lambda = 0$) model, we can see that the learning curve shows the same effect where the training error is low, but the cross validation error is high. There is a gap between the training and cross validation errors, indicating a high variance problem."
   ]
  },
  {
   "cell_type": "markdown",
   "metadata": {},
   "source": [
    "### 3.2 Adjusting the regularization parameter\n",
    "In this section, we will get to observe how the regularization parameter affects the bias-variance of regularized polynomial regression. I have now modifoes the the lambda parameter and try $\\lambda = 1, 100$. "
   ]
  },
  {
   "cell_type": "code",
   "execution_count": 30,
   "metadata": {},
   "outputs": [
    {
     "data": {
      "image/png": "[encoded data removed]",
      "text/plain": [
       "<Figure size 432x288 with 1 Axes>"
      ]
     },
     "metadata": {
      "needs_background": "light"
     },
     "output_type": "display_data"
    },
    {
     "data": {
      "text/plain": [
       "Text(0.5, 1.0, 'Polynomial regression learning curve (lambda = 1)')"
      ]
     },
     "execution_count": 30,
     "metadata": {},
     "output_type": "execute_result"
    },
    {
     "data": {
      "image/png": "[encoded data removed]",
      "text/plain": [
       "<Figure size 432x288 with 1 Axes>"
      ]
     },
     "metadata": {
      "needs_background": "light"
     },
     "output_type": "display_data"
    }
   ],
   "source": [
    "lambda_ = 1\n",
    "theta = trainLinearReg(X_poly, y, lambda_)\n",
    "\n",
    "# Polynomial regression fit code\n",
    "test_x_values = np.linspace(-60, 60, 50).reshape(50, 1)\n",
    "test_x_values = np.concatenate([np.ones((test_x_values.shape[0], 1)), test_x_values], axis=1)\n",
    "\n",
    "# Calculate hypothesis function using theta\n",
    "test_x_values = polyFeatures(test_x_values, p) # Change to polynomial features\n",
    "test_x_values = (test_x_values[:, 1: ] - mean[1: ])/ std[1: ] # Feature normalize\n",
    "test_x_values = np.concatenate([np.ones((test_x_values.shape[0], 1)), test_x_values], axis=1)\n",
    "\n",
    "# Compute hypothesis function with theta\n",
    "test_y_values = test_x_values.dot(theta.T) \n",
    "\n",
    "# Plot hypothesis function\n",
    "plt.scatter(X[:, 1: ], y, color='cornflowerblue')\n",
    "plt.plot(np.linspace(-60, 60), test_y_values, color='coral')\n",
    "plt.xlabel('Change in water level')\n",
    "plt.ylabel('Water flowing out of the dam')\n",
    "plt.title('Polynomial regression fit (lambda = {})'.format(lambda_))\n",
    "plt.show()\n",
    "\n",
    "# Plotting the learning curve\n",
    "\n",
    "error_train, error_val = learningCurve(X_poly,\n",
    "                                       y,\n",
    "                                       X_poly_val,\n",
    "                                       y_val,\n",
    "                                       lambda_)\n",
    "# Plot learning over the data\n",
    "plt.plot(list(range(1, X.shape[0]+1)), error_train, color='cornflowerblue', label='Train')\n",
    "plt.plot(list(range(1, X.shape[0]+1)), error_val, color='coral', label='Cross validation')\n",
    "\n",
    "plt.xlabel('Number of training examples')\n",
    "plt.ylabel('Error')\n",
    "plt.legend(['Train', 'Cross validation'])\n",
    "plt.title('Polynomial regression learning curve (lambda = {})'.format(lambda_))"
   ]
  },
  {
   "cell_type": "code",
   "execution_count": 31,
   "metadata": {},
   "outputs": [
    {
     "data": {
      "image/png": "[encoded data removed]",
      "text/plain": [
       "<Figure size 432x288 with 1 Axes>"
      ]
     },
     "metadata": {
      "needs_background": "light"
     },
     "output_type": "display_data"
    },
    {
     "data": {
      "text/plain": [
       "Text(0.5, 1.0, 'Polynomial regression learning curve (lambda = 100)')"
      ]
     },
     "execution_count": 31,
     "metadata": {},
     "output_type": "execute_result"
    },
    {
     "data": {
      "image/png": "[encoded data removed]",
      "text/plain": [
       "<Figure size 432x288 with 1 Axes>"
      ]
     },
     "metadata": {
      "needs_background": "light"
     },
     "output_type": "display_data"
    }
   ],
   "source": [
    "lambda_ = 100\n",
    "theta = trainLinearReg(X_poly, y, lambda_)\n",
    "\n",
    "# Polynomial regression fit code\n",
    "test_x_values = np.linspace(-60, 60, 50).reshape(50, 1)\n",
    "test_x_values = np.concatenate([np.ones((test_x_values.shape[0], 1)), test_x_values], axis=1)\n",
    "\n",
    "# Calculate hypothesis function using theta\n",
    "test_x_values = polyFeatures(test_x_values, p) # Change to polynomial features\n",
    "test_x_values = (test_x_values[:, 1: ] - mean[1: ])/ std[1: ] # Feature normalize\n",
    "test_x_values = np.concatenate([np.ones((test_x_values.shape[0], 1)), test_x_values], axis=1)\n",
    "\n",
    "# Compute hypothesis function with theta\n",
    "test_y_values = test_x_values.dot(theta.T) \n",
    "\n",
    "# Plot hypothesis function\n",
    "plt.scatter(X[:, 1: ], y, color='cornflowerblue')\n",
    "plt.plot(np.linspace(-60, 60), test_y_values, color='coral')\n",
    "plt.xlabel('Change in water level')\n",
    "plt.ylabel('Water flowing out of the dam')\n",
    "plt.title('Polynomial regression fit (lambda = {})'.format(lambda_))\n",
    "plt.show()\n",
    "\n",
    "# Plotting the learning curve\n",
    "\n",
    "error_train, error_val = learningCurve(X_poly,\n",
    "                                       y,\n",
    "                                       X_poly_val,\n",
    "                                       y_val,\n",
    "                                       lambda_)\n",
    "# Plot learning over the data\n",
    "plt.plot(list(range(1, X.shape[0]+1)), error_train, color='cornflowerblue', label='Train')\n",
    "plt.plot(list(range(1, X.shape[0]+1)), error_val, color='coral', label='Cross validation')\n",
    "\n",
    "plt.xlabel('Number of training examples')\n",
    "plt.ylabel('Error')\n",
    "plt.legend(['Train', 'Cross validation'])\n",
    "plt.title('Polynomial regression learning curve (lambda = {})'.format(lambda_))"
   ]
  },
  {
   "cell_type": "markdown",
   "metadata": {},
   "source": [
    "### 3.3 Selecting $\\lambda$ using a cross validation set\n",
    "\n",
    "In this section, I will implement an automated method to select the $\\lambda$ parameter. Concretely, I will use a cross validation set to evaluate how good each $\\lambda$ value is. After selecting the best $\\lambda$ value using the cross validation set, we can then evaluate the model on the test set to estimate how well the model will perform on actual unseen data."
   ]
  },
  {
   "cell_type": "code",
   "execution_count": 32,
   "metadata": {},
   "outputs": [],
   "source": [
    "def validationCurve(X, y, X_val, y_val):\n",
    "    \"\"\"\n",
    "    Generate the train and validation errors needed to plot a validation\n",
    "    curve that we can use to select lambda_.\n",
    "    \n",
    "    Parameters\n",
    "    ----------\n",
    "    X : array_like\n",
    "        The training dataset. Matrix with shape (m x n) where m is the \n",
    "        total number of training examples, and n is the number of features \n",
    "        including any polynomial features.\n",
    "    \n",
    "    y : array_like\n",
    "        The functions values at each training datapoint. A vector of\n",
    "        shape (m, ).\n",
    "    \n",
    "    X_val : array_like\n",
    "        The validation dataset. Matrix with shape (m_val x n) where m is the \n",
    "        total number of validation examples, and n is the number of features \n",
    "        including any polynomial features.\n",
    "    \n",
    "    y_val : array_like\n",
    "        The functions values at each validation datapoint. A vector of\n",
    "        shape (m_val, ).\n",
    "        \n",
    "    Returns\n",
    "    -------\n",
    "    lambda_vec : list\n",
    "        The values of the regularization parameters which were used in \n",
    "        cross validation.\n",
    "    \n",
    "    error_train : list\n",
    "        The training error computed at each value for the regularization\n",
    "        parameter.\n",
    "    \n",
    "    error_val : list\n",
    "        The validation error computed at each value for the regularization\n",
    "        parameter.\n",
    "    \"\"\"\n",
    "    \n",
    "    # Selected values of lambda\n",
    "    lambda_vec = [0, 0.001, 0.003, 0.01, 0.03, 0.1, 0.3, 1, 3, 10]\n",
    "    \n",
    "    # Containers for error values\n",
    "    error_train = np.zeros((len(lambda_vec)))\n",
    "    error_val = np.zeros((len(lambda_vec)))\n",
    "    \n",
    "    for index, lambda_ in enumerate(lambda_vec):\n",
    "        theta = trainLinearReg(X, y, lambda_)\n",
    "        error_train[index], _ = linearRegCostFunction(X, y, theta, 0)\n",
    "        error_val[index], _ = linearRegCostFunction(X_val, y_val, theta, 0)\n",
    "    \n",
    "    return lambda_vec, error_train, error_val"
   ]
  },
  {
   "cell_type": "code",
   "execution_count": 33,
   "metadata": {},
   "outputs": [
    {
     "name": "stdout",
     "output_type": "stream",
     "text": [
      "lambda\t\tTrain error\tValidation error\n",
      " 0.000000\t0.030390\t43.330995\n",
      " 0.001000\t0.112846\t9.896524\n",
      " 0.003000\t0.170943\t16.401604\n",
      " 0.010000\t0.221463\t16.944220\n",
      " 0.030000\t0.281863\t12.828893\n",
      " 0.100000\t0.459317\t7.587026\n",
      " 0.300000\t0.921782\t4.636760\n",
      " 1.000000\t2.076199\t4.260603\n",
      " 3.000000\t4.901373\t3.822927\n",
      " 10.000000\t16.092273\t9.945554\n"
     ]
    },
    {
     "data": {
      "image/png": "[encoded data removed]",
      "text/plain": [
       "<Figure size 432x288 with 1 Axes>"
      ]
     },
     "metadata": {
      "needs_background": "light"
     },
     "output_type": "display_data"
    }
   ],
   "source": [
    "lambda_vec, error_train, error_val = validationCurve(X_poly, y, X_poly_val, y_val)\n",
    "\n",
    "# Plot error as a function of lambda\n",
    "plt.plot(lambda_vec, error_train, color='cornflowerblue', label='Train')\n",
    "plt.plot(lambda_vec, error_val, color='coral', label='Cross validation')\n",
    "plt.xlabel('Lambda')\n",
    "plt.ylabel('Error')\n",
    "plt.legend(['Train', 'Cross validation'])\n",
    "\n",
    "print('lambda\\t\\tTrain error\\tValidation error')\n",
    "for i in range(len(lambda_vec)):\n",
    "    print(' %f\\t%f\\t%f' % (lambda_vec[i], error_train[i], error_val[i]))"
   ]
  },
  {
   "cell_type": "markdown",
   "metadata": {},
   "source": [
    "### 3.4 Computing test set error"
   ]
  },
  {
   "cell_type": "markdown",
   "metadata": {},
   "source": [
    "I will now compute the test error using the best value of $\\lambda$ we found. In our cross validation, we obtained a test error of 3.82 for $\\lambda = 3$."
   ]
  },
  {
   "cell_type": "code",
   "execution_count": 34,
   "metadata": {},
   "outputs": [
    {
     "name": "stdout",
     "output_type": "stream",
     "text": [
      "Test error: \n",
      "3.85991\n"
     ]
    }
   ],
   "source": [
    "lambda_ = 3\n",
    "theta = trainLinearReg(X_poly, y, lambda_) # Train model\n",
    "error_test, _ = linearRegCostFunction(X_poly_test, y_test, theta, 0) # Calculate error for test set\n",
    "print ('Test error: ')\n",
    "print (f'{error_test:.5f}')"
   ]
  },
  {
   "cell_type": "markdown",
   "metadata": {},
   "source": [
    "### 3.5 Plotting learning curves with randomly selected examples"
   ]
  },
  {
   "cell_type": "code",
   "execution_count": 35,
   "metadata": {},
   "outputs": [],
   "source": [
    "def learningCurveRand(X, y, X_val, y_val, lambda_):\n",
    "    \"\"\"\n",
    "    Generates the train and cross validation set errors needed to plot a learning curve\n",
    "    returns the train and cross validation set errors for a learning curve. \n",
    "    \n",
    "    In this function, we will compute the train and test errors for\n",
    "    dataset sizes from 1 up to m by randomly selecting examples.\n",
    "    \n",
    "    Parameters\n",
    "    ----------\n",
    "    X : array_like\n",
    "        The training dataset. Matrix with shape (m x n + 1) where m is the \n",
    "        total number of examples, and n is the number of features \n",
    "        after adding the bias term.\n",
    "    \n",
    "    y : array_like\n",
    "        The functions values at each training datapoint. A vector of\n",
    "        shape (m, ).\n",
    "    \n",
    "    X_val : array_like\n",
    "        The validation dataset. Matrix with shape (m_val x n + 1) where m is the \n",
    "        total number of examples, and n is the number of features \n",
    "        before adding the bias term.\n",
    "    \n",
    "    y_val : array_like\n",
    "        The functions values at each validation datapoint. A vector of\n",
    "        shape (m_val, ).\n",
    "    \n",
    "    lambda_ : float, optional\n",
    "        The regularization parameter.\n",
    "    \n",
    "    Returns\n",
    "    -------\n",
    "    error_train : array_like\n",
    "        A vector of shape m. error_train[i] contains the training error for\n",
    "        i examples.\n",
    "        \n",
    "    error_val : array_like\n",
    "        A vector of shape m. error_val[i] contains the validation error for\n",
    "        i training examples.\n",
    "    \"\"\"\n",
    "    \n",
    "    # Initialize important variables\n",
    "    m_train = X.shape[0]\n",
    "    error_train = np.zeros((X.shape[0], 50))\n",
    "    error_val = np.zeros((X.shape[0], 50))\n",
    "    \n",
    "    for j in range(50):\n",
    "        for i in range(1, m_train + 1):\n",
    "            train_index = np.random.choice(np.arange(0, m_train), i, replace=False)\n",
    "            theta = trainLinearReg(X[train_index], y[train_index], lambda_) # Train model with selected points\n",
    "\n",
    "            error_train[i-1, j], _ = linearRegCostFunction(X[train_index],\n",
    "                                                           y[train_index],\n",
    "                                                           theta, 0)\n",
    "            error_val[i-1, j], _ = linearRegCostFunction(X_val,\n",
    "                                                         y_val,\n",
    "                                                         theta, 0)\n",
    "    return np.mean(error_train, axis=1), np.mean(error_val, axis=1)"
   ]
  },
  {
   "cell_type": "code",
   "execution_count": 36,
   "metadata": {},
   "outputs": [],
   "source": [
    "error_train, error_val = learningCurveRand(X_poly, y, X_poly_val, y_val, 0.01)"
   ]
  },
  {
   "cell_type": "code",
   "execution_count": 37,
   "metadata": {},
   "outputs": [
    {
     "data": {
      "text/plain": [
       "Text(0.5, 1.0, 'Learning curve for linear regression')"
      ]
     },
     "execution_count": 37,
     "metadata": {},
     "output_type": "execute_result"
    },
    {
     "data": {
      "image/png": "[encoded data removed]",
      "text/plain": [
       "<Figure size 432x288 with 1 Axes>"
      ]
     },
     "metadata": {
      "needs_background": "light"
     },
     "output_type": "display_data"
    }
   ],
   "source": [
    "# Plot learning curve\n",
    "plt.plot(list(range(1, X.shape[0]+1)), error_train, color='cornflowerblue', label='Train')\n",
    "plt.plot(list(range(1, X.shape[0]+1)), error_val, color='coral', label='Cross validation')\n",
    "\n",
    "plt.xlabel('Number of training examples')\n",
    "plt.ylabel('Error')\n",
    "plt.legend(['Train', 'Cross validation'])\n",
    "plt.title('Learning curve for linear regression')"
   ]
  }
 ],
 "metadata": {
  "kernelspec": {
   "display_name": "Python 3",
   "language": "python",
   "name": "python3"
  },
  "language_info": {
   "codemirror_mode": {
    "name": "ipython",
    "version": 3
   },
   "file_extension": ".py",
   "mimetype": "text/x-python",
   "name": "python",
   "nbconvert_exporter": "python",
   "pygments_lexer": "ipython3",
   "version": "3.8.5"
  }
 },
 "nbformat": 4,
 "nbformat_minor": 4
}
