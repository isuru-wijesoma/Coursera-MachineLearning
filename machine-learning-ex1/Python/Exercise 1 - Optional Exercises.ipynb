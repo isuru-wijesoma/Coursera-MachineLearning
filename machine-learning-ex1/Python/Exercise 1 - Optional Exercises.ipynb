{
 "cells": [
  {
   "cell_type": "markdown",
   "metadata": {},
   "source": [
    "# Exercise 1: Linear regression with multiple variables\n",
    "\n",
    "The code below represents my implementation of linear regression with multiple variables with Python. **Vectorized** solutions only are provided below.\n",
    "\n",
    "Jupyter notebook template modified from: https://github.com/dibgerge/ml-coursera-python-assignments."
   ]
  },
  {
   "cell_type": "code",
   "execution_count": 1,
   "metadata": {},
   "outputs": [],
   "source": [
    "import pandas as pd\n",
    "import numpy as np\n",
    "import matplotlib.pyplot as plt\n",
    "from pathlib import Path"
   ]
  },
  {
   "cell_type": "markdown",
   "metadata": {},
   "source": [
    "## 1. Feature normalization\n",
    "\n",
    "Based on ex1_multi.m, we could see that that house sizes are nearly 1000 times the number of bedrooms. Feature scaling can make gradient descent converge more quickly.\n",
    "\n",
    "\n",
    "**Implementation note:** When normalizing the features, it is important\n",
    "to store the values used for normalization - the mean value and the stan\u0002dard deviation used for the computations. After learning the parameters\n",
    "from the model, we often want to predict the prices of houses we have not\n",
    "seen before. Given a new x value (living room area and number of bed\u0002rooms), we must first normalize x using the mean and standard deviation\n",
    "that we had previously computed from the training set."
   ]
  },
  {
   "cell_type": "markdown",
   "metadata": {},
   "source": [
    "### 1.1 Reading data"
   ]
  },
  {
   "cell_type": "code",
   "execution_count": 2,
   "metadata": {},
   "outputs": [],
   "source": [
    "# Read data\n",
    "df = pd.read_csv('ex1data2.txt', header=None, names=['Area', 'Bedrooms', 'Price'])"
   ]
  },
  {
   "cell_type": "markdown",
   "metadata": {},
   "source": [
    "### 1.2 Feature normalization"
   ]
  },
  {
   "cell_type": "code",
   "execution_count": 3,
   "metadata": {},
   "outputs": [],
   "source": [
    "def featureNormalize(df):\n",
    "    \"\"\"\n",
    "    Normalizes the features in X. returns a normalized version of X where\n",
    "    the mean value of each feature is 0 and the standard deviation\n",
    "    is 1. This is often a good preprocessing step to do when working with\n",
    "    learning algorithms.\n",
    "    \n",
    "    Parameters\n",
    "    ----------\n",
    "    df : pandas dataframe\n",
    "        The dataset of shape (m x n).\n",
    "    \n",
    "    Returns\n",
    "    -------\n",
    "    X : array_like\n",
    "        The normalized dataset of shape (m x n).\n",
    "    \n",
    "    Instructions\n",
    "    ------------\n",
    "    First, for each feature dimension, compute the mean of the feature\n",
    "    and subtract it from the dataset, storing the mean value in mu. \n",
    "    Next, compute the  standard deviation of each feature and divide\n",
    "    each feature by it's standard deviation, storing the standard deviation \n",
    "    in sigma. \n",
    "    \n",
    "    Note that X is a matrix where each column is a feature and each row is\n",
    "    an example. You need to perform the normalization separately for each feature. \n",
    "\n",
    "    \"\"\"\n",
    "    m = len(df)\n",
    "    X = np.column_stack((df['Area'], df['Bedrooms']))\n",
    "    mu = X.mean(axis=0)\n",
    "    sigma = X.std(axis=0, ddof=1)\n",
    "    \n",
    "    # Feature normalization with standard deviation\n",
    "    X = (X - mu) / sigma\n",
    "    X = np.column_stack((np.ones(m), X)) # Add feature of ones\n",
    "    \n",
    "    return X, mu, sigma"
   ]
  },
  {
   "cell_type": "code",
   "execution_count": 4,
   "metadata": {},
   "outputs": [],
   "source": [
    "X, mu, sigma = featureNormalize(df)\n",
    "y = df['Price'].to_numpy()"
   ]
  },
  {
   "cell_type": "markdown",
   "metadata": {},
   "source": [
    "## 2. Implementing gradient descent"
   ]
  },
  {
   "cell_type": "markdown",
   "metadata": {},
   "source": [
    "### 2.1 Hypothesis function"
   ]
  },
  {
   "cell_type": "code",
   "execution_count": 5,
   "metadata": {},
   "outputs": [],
   "source": [
    "def hypothesis(X, theta):\n",
    "    \"\"\"\n",
    "    Computes the hypothesis.\n",
    "    \n",
    "    Parameters\n",
    "    ----------\n",
    "    X : np.array\n",
    "        The input dataset of shape (m x n+1), where m is the \n",
    "        number of examples, and n is the number of features. \n",
    "    \n",
    "    theta : np.array\n",
    "        The parameters for the regression function. This is a vector of \n",
    "        shape (n, 1).\n",
    "    \n",
    "    Returns\n",
    "    -------\n",
    "    hypothesis : np.array\n",
    "        Prediction using theta and X.\n",
    "    \n",
    "    \"\"\"\n",
    "        \n",
    "    return X.dot(theta)"
   ]
  },
  {
   "cell_type": "markdown",
   "metadata": {},
   "source": [
    "### 2.2 Cost function"
   ]
  },
  {
   "cell_type": "code",
   "execution_count": 6,
   "metadata": {},
   "outputs": [],
   "source": [
    "def computeCost(X, y, theta):\n",
    "    \"\"\"\n",
    "    Compute cost for linear regression. \n",
    "    Computes the cost of using theta as the parameter for \n",
    "    linear regression to fit the data points in X and y.\n",
    "    \n",
    "    Parameters\n",
    "    ----------\n",
    "    X : np.array\n",
    "        The input dataset of shape (m x n+1), where m is the \n",
    "        number of examples, and n is the number of features.\n",
    "    \n",
    "    y : np.array\n",
    "        The values of the function at each data point. \n",
    "        This is a vector of shape (m, 1).\n",
    "    \n",
    "    theta : np.array\n",
    "        The parameters for the regression function. This is a vector of \n",
    "        shape (n, 1).\n",
    "    \n",
    "    Returns\n",
    "    -------\n",
    "    J : float\n",
    "        The value of the regression cost function.\n",
    "    \n",
    "    \"\"\" \n",
    "    m = len(y)\n",
    "    h = hypothesis(X, theta)\n",
    "    J = ((h - y).T).dot(h - y) / (2 * m)\n",
    "    \n",
    "    return J"
   ]
  },
  {
   "cell_type": "markdown",
   "metadata": {},
   "source": [
    "### 2.3 Gradient descent function"
   ]
  },
  {
   "cell_type": "code",
   "execution_count": 11,
   "metadata": {},
   "outputs": [],
   "source": [
    "def gradientDescentMulti(X, y, theta, alpha, iterations):\n",
    "    \"\"\"\n",
    "    Performs gradient descent to learn `theta`. Updates theta by taking \n",
    "    `iterations` gradient steps with learning rate `alpha`.\n",
    "    \n",
    "    Parameters\n",
    "    ----------\n",
    "    X : np.array\n",
    "        The input dataset of shape (m x n+1), where m is the \n",
    "        number of examples, and n is the number of features.\n",
    "    \n",
    "    y : np.array\n",
    "        The values of the function at each data point. \n",
    "        This is a vector of shape (m, 1).\n",
    "    \n",
    "    theta : np.array\n",
    "        The parameters for the regression function. This is a vector of \n",
    "        shape (n, 1).\n",
    "    \n",
    "    alpha : float\n",
    "        The learning rate.\n",
    "    \n",
    "    iterations : int\n",
    "        The number of iterations for gradient descent. \n",
    "    \n",
    "    Returns\n",
    "    -------\n",
    "    theta : np.array\n",
    "        The learned linear regression parameters. A vector of shape (n+1, ).\n",
    "    \n",
    "    J_history : np.array\n",
    "        A python list for the values of the cost function after each iteration.\n",
    "    \n",
    "    \"\"\"\n",
    "    \n",
    "    m = len(y)\n",
    "    J_history = np.zeros((iterations, 1))\n",
    "    \n",
    "    for i in range(iterations):\n",
    "        h = hypothesis(X, theta)\n",
    "        theta -= ((h - y).dot(X)) * (alpha / m)\n",
    "        J_history[i] = computeCost(X, y, theta)\n",
    "    \n",
    "    return theta, J_history"
   ]
  },
  {
   "cell_type": "code",
   "execution_count": 12,
   "metadata": {},
   "outputs": [
    {
     "name": "stdout",
     "output_type": "stream",
     "text": [
      "Theta found by gradient descent: 340412.66, 110631.05, -6649.47\n"
     ]
    }
   ],
   "source": [
    "# -------- Run gradient descent ------------ #\n",
    "#  Choose some alpha value\n",
    "alpha = 0.15;\n",
    "num_iters = 400;\n",
    "\n",
    "# Initialize theta and run gradient descent\n",
    "theta = np.zeros(3)\n",
    "theta, J_history = gradientDescentMulti(X, y, theta, alpha, num_iters)\n",
    "\n",
    "print(f'Theta found by gradient descent: {theta[0]:.2f}, {theta[1]:.2f}, {theta[2]:.2f}')"
   ]
  },
  {
   "cell_type": "code",
   "execution_count": 13,
   "metadata": {},
   "outputs": [
    {
     "name": "stdout",
     "output_type": "stream",
     "text": [
      "Predicted price of a 1650 sq-ft, 3 br house (using gradient descent): $293081.46\n"
     ]
    }
   ],
   "source": [
    "# -------- Predict price ------------ #\n",
    "test_data  = (np.array((1650, 3)) - mu) / sigma\n",
    "X_test = np.hstack((np.ones(1), test_data))\n",
    "price = X_test.dot(theta)\n",
    "\n",
    "print (f'Predicted price of a 1650 sq-ft, 3 br house (using gradient descent): ${price:.2f}')"
   ]
  },
  {
   "cell_type": "markdown",
   "metadata": {},
   "source": [
    "### 2.4 Convergence graph"
   ]
  },
  {
   "cell_type": "code",
   "execution_count": 15,
   "metadata": {
    "scrolled": true
   },
   "outputs": [],
   "source": [
    "from collections import defaultdict\n",
    "\n",
    "def plotConvergenceGraph(X, y, iterations):\n",
    "    \"\"\"\n",
    "    Performs gradient descent to learn `theta`. Updates theta by taking \n",
    "    `iterations` gradient steps with learning rate `alpha`.\n",
    "    Yields a graph to demonstrate change in J.\n",
    "    \n",
    "    Parameters\n",
    "    ----------\n",
    "    X : np.array\n",
    "        The input dataset of shape (m x n+1), where m is the \n",
    "        number of examples, and n is the number of features.\n",
    "    \n",
    "    y : np.array\n",
    "        The values of the function at each data point. \n",
    "        This is a vector of shape (m, 1).\n",
    "    \n",
    "    iterations : int\n",
    "        The number of iterations for gradient descent. \n",
    "    \n",
    "    Returns\n",
    "    -------\n",
    "    fig: matplotlib.pyplot graph object\n",
    "        A graph of J with different learning rates\n",
    "        \n",
    "    \"\"\"\n",
    "    \n",
    "    alpha = [0.1, 0.03, 0.01, 0.003]\n",
    "    theta = np.zeros(3)\n",
    "    \n",
    "    J = defaultdict(list)\n",
    "    \n",
    "    for i in range(len(alpha)):\n",
    "        theta, J_history = gradientDescentMulti(X, y, theta, alpha[i], iterations)\n",
    "        J[alpha[i]].append(J_history)\n",
    "    \n",
    "    for key, value in J.items():\n",
    "        plt.plot([i for i in range(iterations)], value[0], label=key)\n",
    "    \n",
    "    plt.ylabel(r'J($\\theta$)')\n",
    "    plt.xlabel('Iterations')    \n",
    "    plt.legend()"
   ]
  },
  {
   "cell_type": "code",
   "execution_count": 16,
   "metadata": {},
   "outputs": [
    {
     "data": {
      "image/png": "[encoded data removed]",
      "text/plain": [
       "<Figure size 432x288 with 1 Axes>"
      ]
     },
     "metadata": {
      "needs_background": "light"
     },
     "output_type": "display_data"
    }
   ],
   "source": [
    "plotConvergenceGraph(X, y, iterations=50)"
   ]
  },
  {
   "cell_type": "markdown",
   "metadata": {},
   "source": [
    "## 3. Implementing the normal equation"
   ]
  },
  {
   "cell_type": "markdown",
   "metadata": {},
   "source": [
    "The closed-form solution to linear regression is\n",
    "$$ \\theta = \\left( X^T X\\right)^{-1} X^T\\vec{y}$$\n",
    "\n",
    "Using this formula does not require any feature scaling, and you will get an exact solution in one calculation: there is no “loop until convergence” like in gradient descent."
   ]
  },
  {
   "cell_type": "code",
   "execution_count": 17,
   "metadata": {},
   "outputs": [],
   "source": [
    "def normalEqn(X, y):\n",
    "    \"\"\"\n",
    "    Computes the closed-form solution to linear regression using the normal equations.\n",
    "    \n",
    "    Parameters\n",
    "    ----------\n",
    "    X : array_like\n",
    "        The dataset of shape (m x n+1).\n",
    "    \n",
    "    y : array_like\n",
    "        The value at each data point. A vector of shape (m, ).\n",
    "    \n",
    "    Returns\n",
    "    -------\n",
    "    theta : array_like\n",
    "        Estimated linear regression parameters. A vector of shape (n+1, ).\n",
    "    \n",
    "    Instructions\n",
    "    ------------\n",
    "    Complete the code to compute the closed form solution to linear\n",
    "    regression and put the result in theta.\n",
    "    \n",
    "    Hint\n",
    "    ----\n",
    "    Look up the function `np.linalg.pinv` for computing matrix inverse.\n",
    "    \"\"\"\n",
    "    \n",
    "    # Normal equation\n",
    "    term_1 = np.linalg.inv(X.T.dot(X))\n",
    "    term_2 = (X.T.dot(y))\n",
    "    \n",
    "    return term_1.dot(term_2)"
   ]
  },
  {
   "cell_type": "code",
   "execution_count": 18,
   "metadata": {},
   "outputs": [],
   "source": [
    "# Read data\n",
    "df = pd.read_csv('ex1data2.txt', header=None, names=['Area', 'Bedrooms', 'Price'])\n",
    "\n",
    "# Format features\n",
    "m = len(df)\n",
    "X = np.column_stack((np.ones(m),\n",
    "                     df['Area'].to_numpy(),\n",
    "                     df['Bedrooms'].to_numpy()\n",
    "                    ))\n",
    "y = df['Price'].to_numpy()"
   ]
  },
  {
   "cell_type": "code",
   "execution_count": 19,
   "metadata": {},
   "outputs": [
    {
     "name": "stdout",
     "output_type": "stream",
     "text": [
      "Theta found by gradient descent: 89597.91, 139.21, -8738.02\n"
     ]
    }
   ],
   "source": [
    "theta = normalEqn(X, y)\n",
    "print(f'Theta found by gradient descent: {theta[0]:.2f}, {theta[1]:.2f}, {theta[2]:.2f}')"
   ]
  },
  {
   "cell_type": "code",
   "execution_count": 20,
   "metadata": {},
   "outputs": [
    {
     "name": "stdout",
     "output_type": "stream",
     "text": [
      "Predicted price of a 1650 sq-ft, 3 br house (using gradient descent): $293081.46\n"
     ]
    }
   ],
   "source": [
    "X_test = np.array((1, 1650, 3))\n",
    "price = hypothesis(X_test, theta)\n",
    "\n",
    "print (f'Predicted price of a 1650 sq-ft, 3 br house (using gradient descent): ${price:.2f}')"
   ]
  }
 ],
 "metadata": {
  "kernelspec": {
   "display_name": "Python 3",
   "language": "python",
   "name": "python3"
  },
  "language_info": {
   "codemirror_mode": {
    "name": "ipython",
    "version": 3
   },
   "file_extension": ".py",
   "mimetype": "text/x-python",
   "name": "python",
   "nbconvert_exporter": "python",
   "pygments_lexer": "ipython3",
   "version": "3.8.5"
  }
 },
 "nbformat": 4,
 "nbformat_minor": 4
}
